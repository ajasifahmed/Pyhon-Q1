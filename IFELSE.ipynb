{
 "cells": [
  {
   "cell_type": "code",
   "execution_count": 11,
   "metadata": {},
   "outputs": [
    {
     "name": "stdout",
     "output_type": "stream",
     "text": [
      "A+\n"
     ]
    }
   ],
   "source": [
    "marks=85\n",
    "if marks>=80:\n",
    "    print(\"A+\")\n",
    "elif marks>=70 and marks<80:\n",
    "    print(\"A\")\n",
    "elif marks>=60 and marks<70:\n",
    "    print(\"B\")\n",
    "elif marks>=50 and marks<60:\n",
    "    print(\"C\")\n",
    "else:\n",
    "    print(\"BETTER LUCK NEXT TIME\")"
   ]
  },
  {
   "cell_type": "code",
   "execution_count": 5,
   "metadata": {},
   "outputs": [
    {
     "name": "stdout",
     "output_type": "stream",
     "text": [
      "0\n"
     ]
    }
   ],
   "source": [
    "donut_condition=\"fres\"\n",
    "donut_price=\"lw\"\n",
    "\n",
    "if donut_condition == \"fresh\":\n",
    "    buy_score = 10\n",
    "    print(buy_score)\n",
    "elif donut_price == \"low\":\n",
    "    buy_score = 5\n",
    "    print(buy_score)\n",
    "else:\n",
    "    buy_score = 0\n",
    "    print(buy_score)\n",
    "    "
   ]
  },
  {
   "cell_type": "code",
   "execution_count": null,
   "metadata": {},
   "outputs": [],
   "source": []
  }
 ],
 "metadata": {
  "kernelspec": {
   "display_name": "Python 3",
   "language": "python",
   "name": "python3"
  },
  "language_info": {
   "codemirror_mode": {
    "name": "ipython",
    "version": 3
   },
   "file_extension": ".py",
   "mimetype": "text/x-python",
   "name": "python",
   "nbconvert_exporter": "python",
   "pygments_lexer": "ipython3",
   "version": "3.7.3"
  }
 },
 "nbformat": 4,
 "nbformat_minor": 2
}
