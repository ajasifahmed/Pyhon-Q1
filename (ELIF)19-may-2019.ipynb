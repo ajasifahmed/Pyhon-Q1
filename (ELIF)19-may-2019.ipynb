{
 "cells": [
  {
   "cell_type": "raw",
   "metadata": {},
   "source": [
    "variable  should be noun \n",
    "increament operator does not work in python\n",
    "We can't declare variable in python"
   ]
  },
  {
   "cell_type": "code",
   "execution_count": 1,
   "metadata": {},
   "outputs": [
    {
     "data": {
      "text/plain": [
       "1"
      ]
     },
     "execution_count": 1,
     "metadata": {},
     "output_type": "execute_result"
    }
   ],
   "source": [
    "10%3"
   ]
  },
  {
   "cell_type": "code",
   "execution_count": 2,
   "metadata": {},
   "outputs": [
    {
     "name": "stdout",
     "output_type": "stream",
     "text": [
      "20\n",
      "marksam\n"
     ]
    }
   ],
   "source": [
    "name=\"mark\"\n",
    "name=name+\"sam\"#concetination\n",
    "value=10\n",
    "value+=10\n",
    "print(value)\n",
    "print(name)"
   ]
  },
  {
   "cell_type": "code",
   "execution_count": 3,
   "metadata": {},
   "outputs": [
    {
     "name": "stdout",
     "output_type": "stream",
     "text": [
      "Hello, World!\n"
     ]
    }
   ],
   "source": [
    "greeting = \"Hello\"\n",
    "separators = \", \"\n",
    "addressee = \"World\"\n",
    "punc = \"!\"\n",
    "whole_greeting = greeting + separators + addressee+punc\n",
    "print(whole_greeting)"
   ]
  },
  {
   "cell_type": "code",
   "execution_count": 23,
   "metadata": {},
   "outputs": [
    {
     "name": "stdout",
     "output_type": "stream",
     "text": [
      "name is asim\n",
      "ghazloo the boss\n",
      "this block always executes\n"
     ]
    }
   ],
   "source": [
    "name1=\"asim\"\n",
    "if name1 == \"asim\":\n",
    "    print(\"name is asim\")\n",
    "    print(\"ghazloo the boss\")#end  of if block\n",
    "else:\n",
    "    print(\"why\")\n",
    "print(\"this block always executes\")    \n",
    "        "
   ]
  },
  {
   "cell_type": "code",
   "execution_count": 22,
   "metadata": {},
   "outputs": [
    {
     "name": "stdout",
     "output_type": "stream",
     "text": [
      "no\n"
     ]
    }
   ],
   "source": [
    "a=-9\n",
    "if a>0:\n",
    "    print(\"the no was \",a)\n",
    "else:\n",
    "    print(\"no\")"
   ]
  },
  {
   "cell_type": "code",
   "execution_count": 26,
   "metadata": {},
   "outputs": [
    {
     "name": "stdout",
     "output_type": "stream",
     "text": [
      "0\n"
     ]
    }
   ],
   "source": [
    "donut_condition=\"freh\"\n",
    "donut_price = \"low\"\n",
    "if donut_condition == \"fresh\":\n",
    "    buy_score = 10\n",
    "elif donut_price == \"ow\":\n",
    "    buy_score = 5\n",
    "else:\n",
    "    buy_score = 0\n",
    "print(buy_score)    "
   ]
  },
  {
   "cell_type": "code",
   "execution_count": 28,
   "metadata": {},
   "outputs": [
    {
     "name": "stdout",
     "output_type": "stream",
     "text": [
      "22\n"
     ]
    }
   ],
   "source": [
    "buy_score = 0\n",
    "donut_condition = \"fresh\"\n",
    "donut_filling = \"chocolate\"\n",
    "donut_price = \"reasonable\"\n",
    "\n",
    "if donut_condition == \"fresh\":\n",
    "    buy_score += 10\n",
    "if donut_filling == \"chocolate\":\n",
    "    buy_score += 5\n",
    "if donut_price == \"reasonable\":\n",
    "    buy_score += 7\n",
    "print(buy_score)"
   ]
  },
  {
   "cell_type": "code",
   "execution_count": 6,
   "metadata": {},
   "outputs": [
    {
     "name": "stdout",
     "output_type": "stream",
     "text": [
      "Welcome back to Hogwarts, Harry!\n"
     ]
    }
   ],
   "source": [
    "first_name = \"Harry\"\n",
    "last_name = \"Potter\"\n",
    "if first_name == \"Harry\":\n",
    "    if last_name == \"Potter\":\n",
    "        #if interest == \"wizardry\"\n",
    "        print(\"Welcome back to Hogwarts, Harry!\")\n",
    "else:\n",
    "    print(\"get out\")"
   ]
  },
  {
   "cell_type": "code",
   "execution_count": null,
   "metadata": {},
   "outputs": [],
   "source": [
    " "
   ]
  }
 ],
 "metadata": {
  "kernelspec": {
   "display_name": "Python 3",
   "language": "python",
   "name": "python3"
  },
  "language_info": {
   "codemirror_mode": {
    "name": "ipython",
    "version": 3
   },
   "file_extension": ".py",
   "mimetype": "text/x-python",
   "name": "python",
   "nbconvert_exporter": "python",
   "pygments_lexer": "ipython3",
   "version": "3.7.3"
  }
 },
 "nbformat": 4,
 "nbformat_minor": 2
}
