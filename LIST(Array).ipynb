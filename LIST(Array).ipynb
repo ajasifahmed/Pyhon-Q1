{
 "cells": [
  {
   "cell_type": "code",
   "execution_count": 22,
   "metadata": {},
   "outputs": [
    {
     "name": "stdout",
     "output_type": "stream",
     "text": [
      "Karachi\n",
      "Hydrabad\n",
      "Islamabad\n",
      "Lahore\n",
      "\n",
      " ['Karachi', 'Hydrabad', 'Islamabad', 'Lahore', 'Faislabad', 'my', 'name', 'is', 'karachi', 'Chinai', 'Mumbai', 'Delhi']\n",
      "\n",
      " ['Karachi', 'Hydrabad', 'Gujarat', 'Islamabad', 'Lahore', 'Faislabad', 'my', 'name', 'is', 'karachi', 'Chinai', 'Mumbai', 'Delhi']\n"
     ]
    }
   ],
   "source": [
    "cities=[\"Karachi\",\"Hydrabad\",\"Islamabad\",\"Lahore\"]\n",
    "#print(cities)\n",
    "for c in cities:\n",
    "    print(c)\n",
    "\n",
    "cities.append(\"Faislabad\")\n",
    "#print(cities)\n",
    "cities=cities+[\"my\",\"name\",\"is\",\"karachi\"]\n",
    "#print(cities)\n",
    "\n",
    "ab=[]\n",
    "ab=ab+[\"Chinai\",\"Mumbai\",\"Delhi\"]\n",
    "#print(\"\\n\",ab)\n",
    "\n",
    "ab=cities+ab\n",
    "print(\"\\n\",ab)\n",
    "\n",
    "ab.insert(2,\"Gujarat\")\n",
    "print(\"\\n\",ab)\n",
    "\n",
    "longer_list_of_cities = cities + [\"Dubuque\", \"New\",\"Orleans\"]\n",
    "#print(longer_list_of_cities)"
   ]
  },
  {
   "cell_type": "code",
   "execution_count": 3,
   "metadata": {
    "scrolled": true
   },
   "outputs": [
    {
     "name": "stdout",
     "output_type": "stream",
     "text": [
      "['Ics', 'DM', 'LA', 'DLD']\n",
      "\n",
      " [32, 4, 45, 54, 23]\n"
     ]
    }
   ],
   "source": [
    "sub=[\"Ics\",\"DM\",\"LA\",\"DLD\"]\n",
    "m=[34,4,33,78,90,79,90,77,5,3,32,4,45,54,23,2]\n",
    "m=m[10:15]  #<-----\n",
    "print(sub)\n",
    "print(\"\\n\",m)"
   ]
  },
  {
   "cell_type": "code",
   "execution_count": 19,
   "metadata": {
    "scrolled": false
   },
   "outputs": [
    {
     "name": "stdout",
     "output_type": "stream",
     "text": [
      "['Toilet', 'brush', 'beakfast', 'university'] \n",
      "\n",
      "['cricket', 'footbal', 'hockey'] \n",
      "\n",
      "['cricket', 'footbal', 'hockey', 'brush']\n"
     ]
    }
   ],
   "source": [
    "tasks=[\"Toilet\",\"brush\",\"beakfast\",\"university\"]\n",
    "print(tasks,\"\\n\")\n",
    "\n",
    "tasks_completed=[\"cricket\",\"footbal\",\"hockey\"]\n",
    "print(tasks_completed,\"\\n\")\n",
    "\n",
    "#tasks_completed=tasks.pop(1)\n",
    "#print(tasks_completed)\n",
    "\n",
    "tasks_completed.append(tasks.pop(1))\n",
    "print(tasks_completed)"
   ]
  },
  {
   "cell_type": "code",
   "execution_count": null,
   "metadata": {},
   "outputs": [],
   "source": []
  }
 ],
 "metadata": {
  "kernelspec": {
   "display_name": "Python 3",
   "language": "python",
   "name": "python3"
  },
  "language_info": {
   "codemirror_mode": {
    "name": "ipython",
    "version": 3
   },
   "file_extension": ".py",
   "mimetype": "text/x-python",
   "name": "python",
   "nbconvert_exporter": "python",
   "pygments_lexer": "ipython3",
   "version": "3.7.3"
  }
 },
 "nbformat": 4,
 "nbformat_minor": 2
}
