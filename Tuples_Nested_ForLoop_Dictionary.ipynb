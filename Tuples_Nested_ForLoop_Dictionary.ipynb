{
 "cells": [
  {
   "cell_type": "code",
   "execution_count": null,
   "metadata": {},
   "outputs": [],
   "source": [
    "#TUPLES\n",
    "#NO CHANGABLE \n",
    "states= (\"Delaware\",\"Pennsylvania\", \"New Jersey\", \"Georgia\")\n",
    "states[1]\n",
    "print(states[2])\n"
   ]
  },
  {
   "cell_type": "code",
   "execution_count": null,
   "metadata": {},
   "outputs": [],
   "source": [
    "#forloop\n",
    "states= (\"Delaware\",\"Pennsylvania\", \"New Jersey\", \"Georgia\")\n",
    "for s in states:\n",
    "    print(\"name of states: \",s)\n",
    "    print(\"city is Georgia: \",s==\"Georgia\")"
   ]
  },
  {
   "cell_type": "code",
   "execution_count": null,
   "metadata": {},
   "outputs": [],
   "source": []
  },
  {
   "cell_type": "code",
   "execution_count": null,
   "metadata": {},
   "outputs": [],
   "source": [
    "\n",
    "states= (\"Delaware\",\"Pennsylvania\", \"New Jersey\", \"Georgia\")\n",
    "for s in states:\n",
    "    print(\"name of states: \",s)\n",
    "    print(\"city is Delaware or Pennsylvania: \",s in (\"Delaware\",\"Pennsylvania\"))"
   ]
  },
  {
   "cell_type": "code",
   "execution_count": null,
   "metadata": {},
   "outputs": [],
   "source": [
    "#NESTED FORLOOP\n",
    "father_names=[\"Aslam\",\"Asghar\",\"Mukhtar\",\"Rafiq\"]\n",
    "child_names=[\"Bilal\",\"Zaran\",\"Kashan\",\"Saad\"]#one name of each fathers child\n",
    "full_name=[]\n",
    "index=0\n",
    "#last=3\n",
    "for father_name in father_names:\n",
    "    for child_name in child_names:\n",
    "        full_name.append(child_name+\" \"+father_name)\n",
    "        #print(full_name)\n",
    "#print(full_name)\n",
    "    print(\"fist child name:\",full_name[index])\n",
    "        #print(\"l c name:\",full_names[last])\n",
    "    #print(\"last child name: \",full_name[-1])\n",
    "        #print(full_names)\n",
    "    #index+=4\n",
    "        #last+=4\n",
    "#print(full_names)"
   ]
  },
  {
   "cell_type": "code",
   "execution_count": null,
   "metadata": {},
   "outputs": [],
   "source": [
    "\n",
    "father_names=[\"Aslam\",\"Asghar\",\"Mukhtar\",\"Rafiq\"]\n",
    "child_names=[\"Bilal\",\"Zaran\",\"Kashan\",\"Saad\"]\n",
    "full_name=[]\n",
    "index=1\n",
    "\n",
    "for father_name in father_names:\n",
    "    for child_name in child_names:\n",
    "        full_name.append(child_name+\" \"+father_name)\n",
    "    print(\"fist child name:\",full_name[index])\n",
    "         \n",
    "    print(\"last child name: \",full_name[-1])\n",
    "     \n",
    "    index+=4\n",
    " \n"
   ]
  },
  {
   "cell_type": "code",
   "execution_count": null,
   "metadata": {},
   "outputs": [],
   "source": [
    "#INPUT\n",
    "name=input(\"Enter name\")\n",
    "print(name)"
   ]
  },
  {
   "cell_type": "code",
   "execution_count": null,
   "metadata": {},
   "outputs": [],
   "source": [
    "n1=int(input(\"Enter number: \"))\n",
    "n2=int(input(\"Enter name: \"))\n",
    "a=n1+n2\n",
    "print(a)"
   ]
  },
  {
   "cell_type": "code",
   "execution_count": 3,
   "metadata": {},
   "outputs": [
    {
     "name": "stdout",
     "output_type": "stream",
     "text": [
      "JFB\n",
      "Jfb\n",
      "jfb\n",
      "FHFHSJKF\n",
      "Fhfhsjkf\n",
      "fhfhsjkf\n",
      "FHKF\n",
      "Fhkf\n",
      "fhkf\n",
      "FKSF\n",
      "Fksf\n",
      "fksf\n"
     ]
    }
   ],
   "source": [
    "#Upper case Title case Lower\n",
    "city=[\"jfb\",\"fhfhsjkf\",\"fhkf\",\"fksf\"]\n",
    "for c in city:\n",
    "    print(c.upper())\n",
    "    print(c.title())\n",
    "    print(c.lower())"
   ]
  },
  {
   "cell_type": "code",
   "execution_count": 15,
   "metadata": {},
   "outputs": [
    {
     "name": "stdout",
     "output_type": "stream",
     "text": [
      "{'asif': 'balck', 'khan': 'green', 'Ahmed': 'Black'}\n",
      "{'asif': 'balck', 'khan': 'green', 'Ahmed': 'Black', 'MUhammad': 'white'}\n",
      "{0: 'minimum', 100: 'maximum'}\n",
      "{'khan': 'green', 'Ahmed': 'Black', 'MUhammad': 'white'}\n"
     ]
    }
   ],
   "source": [
    "#Dictionay\n",
    "favourite={\"asif\":\"blue\",\"khan\":\"green\",\"Ahmed\":\"Black\"}\n",
    "favourite[\"asif\"]=\"balck\"#here changed in the dictionary\n",
    "print(favourite) \n",
    "favourite.update({\"MUhammad\":\"white\"})\n",
    "print(favourite)\n",
    "eg={0:\"minimum\",100:\"maximum\"}\n",
    "print(eg)\n",
    "del favourite[\"asif\"]\n",
    "print(favourite)"
   ]
  },
  {
   "cell_type": "code",
   "execution_count": 2,
   "metadata": {},
   "outputs": [
    {
     "name": "stdout",
     "output_type": "stream",
     "text": [
      "dld : 89\n",
      "eng : 89\n"
     ]
    }
   ],
   "source": [
    "marks={\"dld\":89,\"eng\":89}\n",
    "for m,ma in marks.items():\n",
    "    print(m,\":\",ma)"
   ]
  },
  {
   "cell_type": "code",
   "execution_count": 3,
   "metadata": {},
   "outputs": [
    {
     "name": "stdout",
     "output_type": "stream",
     "text": [
      "student name = fahad\n",
      "Maths 90\n",
      "Dm = 88\n",
      "DLD = 79\n",
      "semi = 89\n",
      "Islam = 59\n",
      "OOp = 90\n",
      "student name = ghazlo\n",
      "Maths 89\n",
      "Dm = 79\n",
      "DLD = 56\n",
      "semi = 70\n",
      "Islam = 89\n",
      "OOp = 90\n",
      "student name = ghazanfar\n",
      "Maths 88\n",
      "Dm = 89\n",
      "DLD = 77\n",
      "semi = 667\n",
      "Islam = 88\n",
      "OOp = 88\n",
      "fahad\n",
      "ghazlo\n",
      "ghazanfar\n"
     ]
    }
   ],
   "source": [
    " "
   ]
  },
  {
   "cell_type": "code",
   "execution_count": 2,
   "metadata": {},
   "outputs": [
    {
     "name": "stdout",
     "output_type": "stream",
     "text": [
      "input marks8,89,78\n",
      "{'tottal marks': '8,89,78'}\n"
     ]
    }
   ],
   "source": [
    "marks=input(\"input marks\")\n",
    "dict={\"tottal marks\":marks}\n",
    "print(dict)"
   ]
  },
  {
   "cell_type": "code",
   "execution_count": 3,
   "metadata": {},
   "outputs": [
    {
     "name": "stdout",
     "output_type": "stream",
     "text": [
      "4,5,6\n",
      "{'key': '4,5,6'}\n"
     ]
    }
   ],
   "source": [
    "marks=input()\n",
    "dictionary={\"key\":marks}\n",
    "print(dictionary)"
   ]
  },
  {
   "cell_type": "code",
   "execution_count": 33,
   "metadata": {},
   "outputs": [
    {
     "name": "stdout",
     "output_type": "stream",
     "text": [
      "discount = 0.15\n"
     ]
    }
   ],
   "source": [
    "customer_29876= {\n",
    "    \"first name\": \"David\",\n",
    "    \"last name\": \"Elliott\",\n",
    "    \"address\": \"4803 Wellesley St.\",\n",
    "    \"discounts\": [\"standard\", \"volume\", \"loyalty\"],\n",
    "}\n",
    "if \"loyaltjy\" in customer_29876[\"discounts\"]:\n",
    "    discount_amount = .3\n",
    "elif \"volume\" in customer_29876[\"discounts\"]:\n",
    "    discount_amount = .15\n",
    "elif \"Umar\" in customer_29876[\"discounts\"]:\n",
    "    discount_amount = .10\n",
    "else:\n",
    "    print(\"no discount\")   \n",
    "print(\"discount =\",discount_amount)"
   ]
  },
  {
   "cell_type": "code",
   "execution_count": 7,
   "metadata": {},
   "outputs": [
    {
     "name": "stdout",
     "output_type": "stream",
     "text": [
      "[{'customer id': 0, 'first name': 'John', 'last name': 'Ogden', 'address': '301 Arbor Rd.'}, {'customer id': 4, 'first name': 'Ann', 'last name': 'Sattermyer', 'address': 'PO Box 1145'}, {'customer id': 2, 'first name': 'Jill', 'last name': 'Somers', 'address': '3 Main St.'}]\n",
      "John\n"
     ]
    }
   ],
   "source": [
    "customers = [\n",
    "{\n",
    "\"customer id\": 0,\n",
    "\"first name\":\"John\",\n",
    "\"last name\": \"Ogden\",\n",
    "\"address\": \"301 Arbor Rd.\",\n",
    "},\n",
    "{\n",
    "\"customer id\": 4,\n",
    "\"first name\":\"Ann\",\n",
    "\"last name\": \"Sattermyer\",\n",
    "\"address\": \"PO Box 1145\",\n",
    "},\n",
    "{\n",
    "\"customer id\": 2,\n",
    "\"first name\":\"Jill\",\n",
    "\"last name\": \"Somers\",\n",
    "\"address\": \"3 Main St.\",\n",
    "}\n",
    "]\n",
    "print(customers)\n",
    "print(customers[0][\"first name\"])"
   ]
  },
  {
   "cell_type": "code",
   "execution_count": 39,
   "metadata": {},
   "outputs": [
    {
     "name": "stdout",
     "output_type": "stream",
     "text": [
      "Muhammad\n"
     ]
    }
   ],
   "source": [
    "record={\n",
    "    0:{\n",
    "     \"first_name\":\"Muhammad\",\n",
    "     \"last_name\":\"Ahmed\",\n",
    "     \"ID\":7878,\n",
    "    },\n",
    "    1:{\n",
    "     \"first_name\":\"Muhammad\",\n",
    "     \"last_name\":\"Ahmed\",\n",
    "     \"ID\":7878,\n",
    "    }\n",
    "}\n",
    "print(record[0][\"first_name\"])"
   ]
  },
  {
   "cell_type": "code",
   "execution_count": null,
   "metadata": {},
   "outputs": [],
   "source": []
  }
 ],
 "metadata": {
  "kernelspec": {
   "display_name": "Python 3",
   "language": "python",
   "name": "python3"
  },
  "language_info": {
   "codemirror_mode": {
    "name": "ipython",
    "version": 3
   },
   "file_extension": ".py",
   "mimetype": "text/x-python",
   "name": "python",
   "nbconvert_exporter": "python",
   "pygments_lexer": "ipython3",
   "version": "3.7.3"
  }
 },
 "nbformat": 4,
 "nbformat_minor": 2
}
