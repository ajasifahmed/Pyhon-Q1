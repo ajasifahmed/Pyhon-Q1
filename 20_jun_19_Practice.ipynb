{
 "cells": [
  {
   "cell_type": "code",
   "execution_count": null,
   "metadata": {},
   "outputs": [],
   "source": [
    "value=input(\"list\")\n",
    "allnum=value.split(\",\")\n",
    "evennum=[]\n",
    "oddnum=[]\n",
    "for num in allnum:\n",
    "    mynum=int(num)\n",
    "    if(mynum%2==0):\n",
    "        evennum+=num\n",
    "    else:\n",
    "        oddnum+=num\n",
    "        \n",
    "print(allnum)\n",
    "print(evennum)\n",
    "print(oddnum)"
   ]
  },
  {
   "cell_type": "code",
   "execution_count": null,
   "metadata": {},
   "outputs": [],
   "source": [
    "student=[]\n",
    "while True:\n",
    "    name=input(\"ENTER NAME\")\n",
    "    age=input(\"ENTER AGE\")\n",
    "    height=input(\"Enter HEIGHT\")\n",
    "    student.append((name,age,height))\n",
    "    cont =input(\"continue?\")\n",
    "    if(cont!=\"Y\"):\n",
    "        break\n",
    "\n",
    "print(sorted(student,key=lambda abc:(abc[0],abc[1])))"
   ]
  },
  {
   "cell_type": "code",
   "execution_count": null,
   "metadata": {},
   "outputs": [],
   "source": [
    "val =int(input(\"enter  umber\" ))\n",
    "\n",
    "#val =int(input(\"enter  umber\" ))+1\n",
    "dict={}\n",
    "for x in range(0,val):\n",
    "    dict[x]=x**2\n",
    "print(dict)\n"
   ]
  },
  {
   "cell_type": "code",
   "execution_count": null,
   "metadata": {},
   "outputs": [],
   "source": [
    "student=[]\n",
    "while True:\n",
    "    name=input(\"ENTER NAME\")\n",
    "    age=input(\"ENTER AGE\")\n",
    "    height=input(\"Enter HEIGHT\")\n",
    "    student.append((name,age,height))\n",
    "    cont =input(\"continue?\")\n",
    "    if(cont!=\"Y\"):\n",
    "        break"
   ]
  },
  {
   "cell_type": "code",
   "execution_count": 4,
   "metadata": {},
   "outputs": [
    {
     "name": "stdout",
     "output_type": "stream",
     "text": [
      "1 : 3\n",
      "2 : 2\n",
      "3 : 3\n",
      "4 : 2\n",
      "5 : 3\n",
      "6 : 6\n",
      "7 : 2\n",
      "8 : 5\n",
      "9 : 2\n"
     ]
    }
   ],
   "source": [
    "values=\"1,1,1,2,2,3,3,3,4,4,5,5,5,6,6,6,6,6,6,7,7,8,8,8,8,8,9,9\"\n",
    "vlist=values.split(\",\")\n",
    "dct={}\n",
    "for val in vlist:\n",
    "    val=val.strip()\n",
    "    if val in dct:\n",
    "        dct[val]+=1\n",
    "    else:\n",
    "        dct[val]=1\n",
    "for key,value in dct.items():\n",
    "    print(key,\":\",value)\n"
   ]
  },
  {
   "cell_type": "code",
   "execution_count": 9,
   "metadata": {},
   "outputs": [
    {
     "name": "stdout",
     "output_type": "stream",
     "text": [
      "enter Statementhello world !!! 123\n",
      "tot digs  3\n",
      "total letter 10\n",
      "total other 6\n"
     ]
    }
   ],
   "source": [
    "s=input(\"enter Statement\")\n",
    "digitCount=0\n",
    "alphaCount=0\n",
    "otherCount=0\n",
    "for x in s:\n",
    "    if x.isdigit():\n",
    "        digitCount+=1\n",
    "    elif x.isalpha():\n",
    "        alphaCount+=1\n",
    "    else:\n",
    "        otherCount+=1\n",
    "print(\"tot digs \",digitCount)\n",
    "print(\"total letter\",alphaCount)\n",
    "print(\"total other\",otherCount)\n",
    "\n",
    "#x=sum(x.isdigit()for x in s)\n",
    "#y=sum(y.isalpha()for y in)\n"
   ]
  },
  {
   "cell_type": "code",
   "execution_count": 7,
   "metadata": {},
   "outputs": [
    {
     "name": "stdout",
     "output_type": "stream",
     "text": [
      "1 3\n",
      "2 2\n",
      "3 3\n",
      "4 2\n",
      "5 3\n",
      "6 6\n",
      "7 2\n",
      "8 5\n",
      "9 2\n"
     ]
    }
   ],
   "source": [
    "from collections import Counter\n",
    "xct=Counter(vlist)\n",
    "#print(xct)\n",
    "for key,value in xct.items():\n",
    "    print(key,value)"
   ]
  },
  {
   "cell_type": "code",
   "execution_count": 11,
   "metadata": {},
   "outputs": [
    {
     "name": "stdout",
     "output_type": "stream",
     "text": [
      "Enter statement Asif Ahmed 90\n",
      "total digits 2\n",
      "total letters 9\n",
      "total others 2\n"
     ]
    }
   ],
   "source": [
    "#Short cut method of 9\n",
    "s=input(\"Enter statement \")\n",
    "x=sum(x.isdigit() for x in s)\n",
    "y=sum(y.isalpha() for y in s)\n",
    "\n",
    "print(\"total digits\",str(x))\n",
    "print(\"total letters\",str(y))\n",
    "print(\"total others\",len(s)-(x+y))"
   ]
  },
  {
   "cell_type": "code",
   "execution_count": 16,
   "metadata": {},
   "outputs": [
    {
     "name": "stdout",
     "output_type": "stream",
     "text": [
      "hello there \n",
      "\n",
      "hello there \n",
      "\n",
      "hello there \n",
      "\n",
      "hello there \n",
      "\n",
      "hello there \n",
      "\n"
     ]
    }
   ],
   "source": [
    "fn='new.txt'\n",
    "with open(fn)as f:\n",
    "    for line in f:\n",
    "        print(line)\n",
    "        #print(line.rstrip())\n"
   ]
  },
  {
   "cell_type": "code",
   "execution_count": null,
   "metadata": {},
   "outputs": [],
   "source": []
  }
 ],
 "metadata": {
  "kernelspec": {
   "display_name": "Python 3",
   "language": "python",
   "name": "python3"
  }
 },
 "nbformat": 4,
 "nbformat_minor": 2
}
