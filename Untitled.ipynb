{
 "cells": [
  {
   "cell_type": "code",
   "execution_count": 1,
   "metadata": {},
   "outputs": [],
   "source": [
    "import csv\n",
    "with open(\"data.csv\",\"w\") as handler:\n",
    "    a=csv.writer(handler)\n",
    "    a.writerow([\"c1\",\"c2\",\"c3\",\"c4\"])\n",
    "    a.writerow([\"r1\",\"r2\",\"r3\",\"r4\"])\n",
    "\n",
    "    "
   ]
  },
  {
   "cell_type": "code",
   "execution_count": 5,
   "metadata": {},
   "outputs": [
    {
     "name": "stdout",
     "output_type": "stream",
     "text": [
      "OrderedDict([('c1', 'r1'), ('c2', 'r2'), ('c3', 'r3'), ('c4', 'r4')])\n"
     ]
    }
   ],
   "source": [
    "import csv\n",
    "with open(\"data.csv\",\"r\") as handler:\n",
    "    a=csv.DictReader(handler)\n",
    "    for e in a:\n",
    "        print(e)"
   ]
  },
  {
   "cell_type": "code",
   "execution_count": null,
   "metadata": {},
   "outputs": [],
   "source": []
  }
 ],
 "metadata": {
  "kernelspec": {
   "display_name": "Python 3",
   "language": "python",
   "name": "python3"
  },
  "language_info": {
   "codemirror_mode": {
    "name": "ipython",
    "version": 3
   },
   "file_extension": ".py",
   "mimetype": "text/x-python",
   "name": "python",
   "nbconvert_exporter": "python",
   "pygments_lexer": "ipython3",
   "version": "3.7.3"
  }
 },
 "nbformat": 4,
 "nbformat_minor": 2
}
