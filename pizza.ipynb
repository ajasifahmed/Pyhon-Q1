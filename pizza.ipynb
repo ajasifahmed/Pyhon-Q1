{
 "cells": [
  {
   "cell_type": "code",
   "execution_count": 1,
   "metadata": {},
   "outputs": [
    {
     "ename": "FileNotFoundError",
     "evalue": "[Errno 2] No such file or directory: 'testfile.txt'",
     "output_type": "error",
     "traceback": [
      "\u001b[1;31m---------------------------------------------------------------------------\u001b[0m",
      "\u001b[1;31mFileNotFoundError\u001b[0m                         Traceback (most recent call last)",
      "\u001b[1;32m<ipython-input-1-182e788c5e3f>\u001b[0m in \u001b[0;36m<module>\u001b[1;34m\u001b[0m\n\u001b[0;32m      1\u001b[0m \u001b[1;31m#Assignment 3\u001b[0m\u001b[1;33m\u001b[0m\u001b[1;33m\u001b[0m\u001b[1;33m\u001b[0m\u001b[0m\n\u001b[0;32m      2\u001b[0m \u001b[0malltext\u001b[0m\u001b[1;33m=\u001b[0m\u001b[1;34m\"\"\u001b[0m\u001b[1;33m\u001b[0m\u001b[1;33m\u001b[0m\u001b[0m\n\u001b[1;32m----> 3\u001b[1;33m \u001b[1;32mwith\u001b[0m \u001b[0mopen\u001b[0m\u001b[1;33m(\u001b[0m\u001b[1;34m\"testfile.txt\"\u001b[0m\u001b[1;33m,\u001b[0m\u001b[1;34m\"r\"\u001b[0m\u001b[1;33m)\u001b[0m\u001b[1;32mas\u001b[0m \u001b[0mf\u001b[0m\u001b[1;33m:\u001b[0m\u001b[1;33m\u001b[0m\u001b[1;33m\u001b[0m\u001b[0m\n\u001b[0m\u001b[0;32m      4\u001b[0m         \u001b[0malltext\u001b[0m\u001b[1;33m+=\u001b[0m\u001b[0mf\u001b[0m\u001b[1;33m.\u001b[0m\u001b[0mread\u001b[0m\u001b[1;33m(\u001b[0m\u001b[1;33m)\u001b[0m\u001b[1;33m\u001b[0m\u001b[1;33m\u001b[0m\u001b[0m\n\u001b[0;32m      5\u001b[0m \u001b[0mprint\u001b[0m\u001b[1;33m(\u001b[0m\u001b[0malltext\u001b[0m\u001b[1;33m)\u001b[0m\u001b[1;33m\u001b[0m\u001b[1;33m\u001b[0m\u001b[0m\n",
      "\u001b[1;31mFileNotFoundError\u001b[0m: [Errno 2] No such file or directory: 'testfile.txt'"
     ]
    }
   ],
   "source": [
    "#Assignment 3\n",
    "alltext=\"\"\n",
    "with open(\"testfile.txt\",\"r\")as f:\n",
    "        alltext+=f.read()\n",
    "print(alltext)"
   ]
  },
  {
   "cell_type": "code",
   "execution_count": 6,
   "metadata": {},
   "outputs": [
    {
     "name": "stdout",
     "output_type": "stream",
     "text": [
      "press 1 for insert and 2 for update1\n",
      "Enter Pizza name and q for quitq\n"
     ]
    }
   ],
   "source": [
    "#Classwork\n",
    "import json\n",
    "pizza={}\n",
    "#p=input(\"press 1 for insert and 2 for update\")\n",
    "#f op==\"1\":      \n",
    "#     pname=input(\"Enter Pizza name and q for quit\")\n",
    "#     while pname!=\"q\":\n",
    "#         price=int(input(\"Enter\"+pname+\"price\"))\n",
    "#         pizza.update({pname:price})\n",
    "#         pname=input(\"Enter Pizza name and q for quit\")\n",
    "#     #rint(pizza)\n",
    "#     with open(\"pizza_file\",\"w\") as p:\n",
    "#             json.dump(pizza, p)\n",
    "#lif op==\"2\":\n",
    "try:\n",
    "    with open(\"pizza_file\")as f:\n",
    "        pizza=json.load(f)\n",
    "           #print(\"If you want to print list type list\")\n",
    "        option=input(\"Enter update to update list and list to print list\")\n",
    "        if option==\"list\":\n",
    "                for key,value in pizza.items():\n",
    "                    print(key,\":\", value)\n",
    "            elif option==\"update\":\n",
    "                pname=input(\"Enter Pizza name and q for quit\")\n",
    "                while pname!=\"q\":\n",
    "                    price=int(input(\"Enter\"+pname+\"price\"))\n",
    "                    pizza.update({pname:price})\n",
    "                    pname=input(\"Enter Pizza name and q for quit\")\n",
    "               #print(pizza)\n",
    "                with open(\"pizza_file\",\"w\") as p:\n",
    "                        json.dump(pizza, p)\n",
    "            else:\n",
    "                print(\"Invalid input\")\n",
    "                \n",
    "                \n",
    "         \n",
    "    except FileNotFoundError:\n",
    "         print(\"File not found\")\n",
    "#lse:\n",
    "    #rint(\"Ivalid input\")\n",
    "         \n"
   ]
  },
  {
   "cell_type": "code",
   "execution_count": null,
   "metadata": {},
   "outputs": [
    {
     "name": "stdout",
     "output_type": "stream",
     "text": [
      "Enter update to update list and list to print listupdate\n",
      "Enter Pizza name and q for quitTikka\n"
     ]
    }
   ],
   "source": [
    "import json\n",
    "pizza={}\n",
    "try:\n",
    "    with open(\"pizza_file\")as f:\n",
    "        pizza=json.load(f)\n",
    "           #print(\"If you want to print list type list\")\n",
    "        option=input(\"Enter update to update list and list to print list\")\n",
    "        if option==\"list\":\n",
    "                for key,value in pizza.items():\n",
    "                    print(key,\":\", value)\n",
    "        elif option==\"update\":\n",
    "            pname=input(\"Enter Pizza name and q for quit\")\n",
    "            while pname!=\"q\":\n",
    "                if pname in pizza:\n",
    "                    print(pname,\"pizza is exits you wanna change: Y/N\")\n",
    "                    a=input()\n",
    "                    if a==\"Y\":\n",
    "                        price=int(input(\"Enter\"+pname+\"price\"))\n",
    "                        pizza.update({pname:price})\n",
    "                    else:\n",
    "                        pname=input(\"Enter Pizza name and q for quit\")\n",
    "               \n",
    "                \n",
    "               #print(pizza)\n",
    "            with open(\"pizza_file\",\"w\") as p:\n",
    "                json.dump(pizza, p)\n",
    "        else:\n",
    "            print(\"Invalid input\")\n",
    "except FileNotFound:\n",
    "    print(\"File not found\")\n",
    "\n",
    "  \n",
    "           \n",
    "    "
   ]
  },
  {
   "cell_type": "code",
   "execution_count": null,
   "metadata": {},
   "outputs": [],
   "source": []
  },
  {
   "cell_type": "code",
   "execution_count": null,
   "metadata": {},
   "outputs": [],
   "source": [
    "import json\n",
    "print(\"Select the Pizza from the menue:\")\n",
    "for key,value in pizza.items():\n",
    "    print(key,\":\", value)\n",
    "name=input(\"Enter your name:\")\n",
    "price=0\n",
    "choice=\"Y\"\n",
    "while choice==\"Y\":\n",
    "    order=input(\"Enter pizza\")\n",
    "    quantity=int(input(\"Enter quantity\"))\n",
    "    if order in pizza:\n",
    "        price+=pizza[order]*quantity\n",
    "    \n",
    "    else:\n",
    "        print(\"Invalid  input\")\n",
    "    choice=input(\"Want to continue: Y for yes and N for no\")\n",
    "    \n",
    "    if(choice==\"N\"):\n",
    "        print(\"Customer name:\",name)\n",
    "        print(\"Total :\",price)\n",
    "        break\n",
    "    \n",
    "\n",
    "\n"
   ]
  },
  {
   "cell_type": "code",
   "execution_count": 2,
   "metadata": {},
   "outputs": [],
   "source": [
    "import json\n",
    "import csv\n",
    "pizza ={}\n",
    "typ=[\"type\"]\n",
    "price=[\"price\"]\n",
    "try:\n",
    "     with open(\"pizza_file\")as f:\n",
    "            pizza=json.load(f)\n",
    "            for key,value in pizza.items():\n",
    "                typ.append(key)\n",
    "                price.append(value)\n",
    "    with open(\"pizza_data.csv\",\"w\")as f:\n",
    "        data_handler=csv.writer(f,delimiter=\",\")\n",
    "        data_handler.writerow(typ)\n",
    "        data_handler.writerow(price)\n",
    "except:\n",
    "    print(\"afdafdsaf\")"
   ]
  },
  {
   "cell_type": "code",
   "execution_count": null,
   "metadata": {},
   "outputs": [],
   "source": []
  }
 ],
 "metadata": {
  "kernelspec": {
   "display_name": "Python 3",
   "language": "python",
   "name": "python3"
  },
  "language_info": {
   "codemirror_mode": {
    "name": "ipython",
    "version": 3
   },
   "file_extension": ".py",
   "mimetype": "text/x-python",
   "name": "python",
   "nbconvert_exporter": "python",
   "pygments_lexer": "ipython3",
   "version": "3.7.3"
  }
 },
 "nbformat": 4,
 "nbformat_minor": 2
}
