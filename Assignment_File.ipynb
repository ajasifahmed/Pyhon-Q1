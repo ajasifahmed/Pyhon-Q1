{
 "cells": [
  {
   "cell_type": "code",
   "execution_count": 12,
   "metadata": {},
   "outputs": [
    {
     "name": "stdout",
     "output_type": "stream",
     "text": [
      "Enter radius of the circle: 2\n",
      "Area of Circle with radius  2.0 is 12.566370614359172\n"
     ]
    }
   ],
   "source": [
    "# Q_1: Write a Python program which accepts the radius of a circle from the user and compute the area.\n",
    "\n",
    "import math\n",
    "\n",
    "radius=float(input(\"Enter radius of the circle: \"))\n",
    "r=math.pi*radius*2\n",
    "print(\"Area of Circle with radius \",radius,\"is\",r)"
   ]
  },
  {
   "cell_type": "code",
   "execution_count": 9,
   "metadata": {},
   "outputs": [
    {
     "name": "stdout",
     "output_type": "stream",
     "text": [
      "Enter number-9\n",
      "Negative Nuber Entered\n"
     ]
    }
   ],
   "source": [
    "# Q_2 Write a Python program to check if a number is positive, negative or zero.\n",
    "\n",
    "n1=int(input(\"Enter number\"))\n",
    "if n1>0:\n",
    "    print(\"Positive Number Entered\")\n",
    "elif n1<0:\n",
    "    print(\"Negative Nuber Entered\")\n",
    "elif n1==0:\n",
    "    print(\"Zero Eneted\")\n",
    "    "
   ]
  },
  {
   "cell_type": "code",
   "execution_count": 10,
   "metadata": {},
   "outputs": [
    {
     "name": "stdout",
     "output_type": "stream",
     "text": [
      "Enter  Divident number: 5\n",
      "Enter   Divisor number: 3\n",
      "a number isn't completely divisible \n"
     ]
    }
   ],
   "source": [
    "# Q_3 Write a Python program to check whether a number is completely divisible by another number. \n",
    "#Accept two integer values form the user.\n",
    "\n",
    "n1=int(input(\"Enter  Divident number: \"))\n",
    "n2=int(input(\"Enter   Divisor number: \"))\n",
    "if n2!=0:\n",
    "    div=n1%n2\n",
    "    if div==0:\n",
    "        print(\"The number is completely divisible \")\n",
    "    else:\n",
    "        print(\"a number isn't completely divisible \")\n",
    "else:\n",
    "    print(\"Divisor can't be zero!\")"
   ]
  },
  {
   "cell_type": "code",
   "execution_count": 11,
   "metadata": {},
   "outputs": [
    {
     "name": "stdout",
     "output_type": "stream",
     "text": [
      "eneter date1 in this formate: dd/mm/yy: 12/12/2018\n",
      "enter date2: in this formate: dd/mm/yy 16/12/2018\n",
      "the days b/w the dates is  4\n"
     ]
    }
   ],
   "source": [
    "# Q_4 Write a Python program to calculate number of days between two dates.\n",
    "\n",
    "d1=input(\"eneter date1 in this formate: dd/mm/yy: \")[0:2]\n",
    "\n",
    "d2=input(\"enter date2: in this formate: dd/mm/yy \")[0:2]\n",
    "\n",
    "d=int(d1)-int(d2)\n",
    "print(\"the days b/w the dates is \",abs(d))"
   ]
  },
  {
   "cell_type": "code",
   "execution_count": 11,
   "metadata": {},
   "outputs": [
    {
     "name": "stdout",
     "output_type": "stream",
     "text": [
      "Enter radius of the circle: 3\n",
      "Volume of the Sphere with radius 3.0 is 113.09733552923254\n"
     ]
    }
   ],
   "source": [
    "# Q_5 Write a Python program to get the volume of a sphere, please take the radius as input from user.\n",
    "import math\n",
    "radius=float(input(\"Enter radius of the circle: \"))\n",
    "v=(4/3)*math.pi*radius**3\n",
    "print(\"Volume of the Sphere with radius\",radius,\"is\",v)"
   ]
  },
  {
   "cell_type": "code",
   "execution_count": 6,
   "metadata": {},
   "outputs": [
    {
     "name": "stdout",
     "output_type": "stream",
     "text": [
      "enter stringHa\n",
      "how many copy do you want4\n",
      "HaHaHaHa\n",
      "4 copies of string Ha is HaHaHaHa\n"
     ]
    }
   ],
   "source": [
    "# Q_6Write a Python program to get a string which is n (non-negative integer) copies of a given string.\n",
    "\n",
    "string=input(\"enter string\")\n",
    "n=input(\"how many copy do you want\")\n",
    "print(string*int(n))\n",
    "print(n,\"copies of string\",string,\"is\",string*int(n))\n"
   ]
  },
  {
   "cell_type": "code",
   "execution_count": 13,
   "metadata": {},
   "outputs": [
    {
     "name": "stdout",
     "output_type": "stream",
     "text": [
      "enter first number: 7\n",
      "7  is odd\n"
     ]
    }
   ],
   "source": [
    "# q_7 Write a Python program to find whether a given number (accept from the user) is even or odd, print out an appropriate\n",
    "#message to the user\n",
    "n1=int(input(\"enter first number: \"))\n",
    "if n1%2==0:\n",
    "    print(n1,\" is even\")\n",
    "else:\n",
    "    print(n1,\" is odd\")\n"
   ]
  },
  {
   "cell_type": "code",
   "execution_count": 19,
   "metadata": {},
   "outputs": [
    {
     "name": "stdout",
     "output_type": "stream",
     "text": [
      "Enter a Alphabete\n",
      "e is a vowel\n"
     ]
    }
   ],
   "source": [
    "# Q_8 Write a Python program to test whether a passed letter is a vowel or not.\n",
    "li=[\"a\",\"e\",\"i\",\"o\",\"u\"]\n",
    "letter=input(\"Enter a Alphabet\")\n",
    "for x in li:\n",
    "    if letter==x:\n",
    "        print(letter,\"is a vowel\")\n",
    "        break\n",
    "if letter!=x:\n",
    "        print(letter,\"is a consonant\")"
   ]
  },
  {
   "cell_type": "code",
   "execution_count": 22,
   "metadata": {},
   "outputs": [
    {
     "name": "stdout",
     "output_type": "stream",
     "text": [
      "Enter base: 8\n",
      "Enter height9\n",
      "Area of triangle with height  9.0 and base  8.0 is  36.0\n"
     ]
    }
   ],
   "source": [
    "# Q_9 Write a Python program that will accept the base and height of a triangle and compute the area.\n",
    "#1/2 b h\n",
    "base=float(input(\"Enter base: \"))\n",
    "height=float(input(\"Enter height\"))\n",
    "A=(1/2)*base*height\n",
    "print(\"Area of triangle with height \",height,\"and base \",base,\"is \",A)"
   ]
  },
  {
   "cell_type": "code",
   "execution_count": 3,
   "metadata": {},
   "outputs": [
    {
     "name": "stdout",
     "output_type": "stream",
     "text": [
      "Please enter principal amount: 100000\n",
      "Enter number of years for investment: 10\n",
      "Please Enter Rate of interest in %: 0.4\n",
      "After 10 years your principal amount 100000 over an interest rate of 0.4 % will be 4000.0\n"
     ]
    }
   ],
   "source": [
    "# Q_10 Write a Python program to compute the future value of a specified principal \n",
    "#amount, rate of interest, and a number of years.\n",
    "\n",
    "a=int(input(\"Please enter principal amount: \"))\n",
    "t=int(input(\"Enter number of years for investment: \"))\n",
    "r=float(input(\"Please Enter Rate of interest in %: \"))\n",
    "simple_interest=(a*t*r)/100\n",
    "print(\"After\",t,\"years your principal amount\",a,\"over an interest rate of\",r,\"% will be\",simple_interest)\n"
   ]
  },
  {
   "cell_type": "code",
   "execution_count": null,
   "metadata": {},
   "outputs": [],
   "source": [
    "# Q_11 Write a Python program to compute the distance between the points (x1, y1) and (x2, y2).\n",
    "\n",
    "#import math\n",
    "#p1=[]\n",
    "#for i in range(2):\n",
    "    #p1.append(int(input(\"Enter co-ordinates of a point \")))\n",
    "#p2=[]\n",
    "#for i in range(2):\n",
    "        #p2.append(int(input(\"Enter co-ordinates of another point \")))\n",
    "#d=math.sqrt((p1[0]-p2[0])**2+(p1[1]-p2[1])**2)\n",
    "#print(\"Distance between points\",p1,p2,\"is\",abs(d))\n",
    "\n",
    "#         OR\n",
    "\n",
    "import math\n",
    "\n",
    "x1 = int(input(\"Enter Co-Ordinate For x1 :\"))\n",
    "x2 = int(input(\"Enter Co-Ordinate For x2 :\"))\n",
    "y1 = int(input(\"Enter Co-Ordinate For y1 :\"))\n",
    "y2 = int(input(\"Enter Co-Ordinate For y2 :\"))\n",
    "\n",
    "distance = math.sqrt( ((x1-y1)**2)+((x2-y2)**2) )\n",
    "\n",
    "print(abs(distance))\n"
   ]
  },
  {
   "cell_type": "code",
   "execution_count": 12,
   "metadata": {},
   "outputs": [
    {
     "name": "stdout",
     "output_type": "stream",
     "text": [
      "Enter Height in Feet: 5\n",
      "There are 152.4 Cm in 5.0 ft\n"
     ]
    }
   ],
   "source": [
    "# Q_12 Write a Python program to convert height in feet to centimetres.\n",
    "f=float(input(\"Enter Height in Feet: \"))\n",
    "c=(f*30.48)\n",
    "print(\"There are\",c,\"Cm in\",f,\"ft\")"
   ]
  },
  {
   "cell_type": "code",
   "execution_count": 1,
   "metadata": {},
   "outputs": [
    {
     "name": "stdout",
     "output_type": "stream",
     "text": [
      "Enter weight in KG 80\n",
      "Enter Height in Cm 170\n",
      "Your BMI is 0.002768166089965398\n"
     ]
    }
   ],
   "source": [
    "# Q_13 Write a Python program to calculate body mass index.\n",
    "#w/h^2\n",
    "w=float(input(\"Enter weight in KG \"))\n",
    "h=float(input(\"Enter Height in Cm \"))\n",
    "BMI=w/(h**2)\n",
    "print(\"Your BMI is\",BMI)"
   ]
  },
  {
   "cell_type": "code",
   "execution_count": 4,
   "metadata": {},
   "outputs": [
    {
     "name": "stdout",
     "output_type": "stream",
     "text": [
      "Enter a positive integer: 9\n",
      "Sum of n Positive integers till 9 is 45.0\n"
     ]
    }
   ],
   "source": [
    "# Q14 Write a python program to sum of the first n positive integers.\n",
    "n = int(input(\"Enter a positive integer: \"))\n",
    "total = n * (n+1) / 2\n",
    "print(\"Sum of n Positive integers till\",n,\"is\",total)"
   ]
  },
  {
   "cell_type": "code",
   "execution_count": 19,
   "metadata": {},
   "outputs": [
    {
     "name": "stdout",
     "output_type": "stream",
     "text": [
      "Enter a number 989\n",
      "9 + 8 + 9\n",
      "Sum of the digit is 26\n"
     ]
    }
   ],
   "source": [
    "# Q_15 Write a Python program to calculate the sum of the digits in an integer.\n",
    "n=int(input(\"Enter a number \"))\n",
    "sep= str(n)\n",
    "\n",
    "lst = list(sep)\n",
    "\n",
    "sep_digits = ' + '.join(sep)\n",
    "\n",
    "print(sep_digits)\n",
    "\n",
    "total=0\n",
    "while n>0:\n",
    "    digit=n%10\n",
    "    total=total+digit\n",
    "    n=n//10\n",
    "print(\"Sum of the digit is\",total)"
   ]
  },
  {
   "cell_type": "code",
   "execution_count": 3,
   "metadata": {},
   "outputs": [
    {
     "name": "stdout",
     "output_type": "stream",
     "text": [
      "Enter a decimal number 66\n",
      "Binary Representation of  66  is  100001 "
     ]
    }
   ],
   "source": [
    "# Q16 Write a program to convert binary number to Decimal number.\n",
    "\n",
    "decimalNumber = int(input(\"Enter a decimal number \"))\n",
    "finalDecimalNumber = decimalNumber\n",
    "\n",
    "# to store binary numbers in list\n",
    "array=[]\n",
    "\n",
    "while(decimalNumber>0):\n",
    "    digit=decimalNumber%2\n",
    "    array.append(digit)\n",
    "    decimalNumber=decimalNumber//2\n",
    "    \n",
    "    # Converting integer list to string list\n",
    "    s = [str(i) for i in array] \n",
    "      \n",
    "    # Join list items using join() \n",
    "    res = int(\"\".join(s))     \n",
    "array.reverse()\n",
    "\n",
    "#print(\"Binary Representation of \", finalDecimalNumber,\" is \",res,end=\" \")\n",
    "print(\"Binary Representation of \", finalDecimalNumber,\" is \",res)"
   ]
  },
  {
   "cell_type": "code",
   "execution_count": 2,
   "metadata": {},
   "outputs": [
    {
     "name": "stdout",
     "output_type": "stream",
     "text": [
      "Enter a Binary number 10001\n",
      "Decimal Representation of  10001  is  17\n"
     ]
    }
   ],
   "source": [
    "# Q_17 Write a program to convert  decimal number to  binary number.\n",
    "binaryNumber = input(\"Enter a Binary number \")\n",
    "binaryNumberList = list(binaryNumber)\n",
    "defaultValue = 0\n",
    "actualNumber = str(binaryNumber)\n",
    "\n",
    "\n",
    "\n",
    "for d in range(len(binaryNumberList)):\n",
    "    numbers = binaryNumberList.pop()\n",
    "    if numbers == '1':\n",
    "        defaultValue = defaultValue + pow(2, d)\n",
    "print(\"Decimal Representation of \", actualNumber,\" is \" ,defaultValue)"
   ]
  },
  {
   "cell_type": "code",
   "execution_count": 8,
   "metadata": {},
   "outputs": [
    {
     "name": "stdout",
     "output_type": "stream",
     "text": [
      "Enter text: AsifAhmedJamilAhmed\n",
      "Vowels=  8\n",
      "consonant=  11\n"
     ]
    }
   ],
   "source": [
    "# Q_18 Input a text and count the occurrences of vowels and consonant.\n",
    "\n",
    "a=input(\"Enter text: \")\n",
    "c1=0\n",
    "c2=0\n",
    "li=list(a)\n",
    "for i in li:\n",
    "    if i=='a'or i=='e'or i=='i'or i=='o'or i=='u'or i == 'A' or i == 'E' or i == 'I' or i == 'O' or i == 'U':\n",
    "        c1+=1\n",
    "    else:\n",
    "        c2+=1\n",
    "print(\"Vowels= \",c1)\n",
    "print(\"consonant= \",c2)\n",
    "        \n"
   ]
  },
  {
   "cell_type": "code",
   "execution_count": 9,
   "metadata": {},
   "outputs": [
    {
     "name": "stdout",
     "output_type": "stream",
     "text": [
      "Enter text: mom\n",
      "Enter text mom is palindrome\n"
     ]
    }
   ],
   "source": [
    "# Q_19 Write a program to check whether given input is palindrome or not.\n",
    "a=input(\"Enter text: \")\n",
    "p=a[::-1]\n",
    "if a==p:\n",
    "    print(\"Enter text\",a,\"is palindrome\")\n",
    "else:\n",
    "    print(\"Enter text\",a,\"isn't palindrome\")"
   ]
  },
  {
   "cell_type": "code",
   "execution_count": 16,
   "metadata": {},
   "outputs": [
    {
     "name": "stdout",
     "output_type": "stream",
     "text": [
      "Enter text: asif  @@ 1234 .\n",
      "\n",
      "Total Number of Alphabets in this  text :   4\n",
      "Total Number of Digits in this  text :   4\n",
      "Total Number of Special Characters in this  text :   3\n",
      "Total Number of Spaces in this  text :   4\n"
     ]
    }
   ],
   "source": [
    "# Q_20 Write a Python program that accepts a string and calculate the number of digits and letters.\n",
    "\n",
    "ip=input(\"Enter text: \")\n",
    "a=d=sp=s=0\n",
    "#sp=ip.count(' ')\n",
    "for i in range(len(ip)):\n",
    "    if ip[i].isalpha():\n",
    "        a+=1\n",
    "    elif ip[i].isdigit():\n",
    "        d+=1\n",
    "    elif ip[i]==\" \":\n",
    "        s+=1\n",
    "    else:\n",
    "        sp+=1\n",
    "#special=s-sp\n",
    "print(\"\\nTotal Number of Alphabets in this  text :  \", a)\n",
    "print(\"Total Number of Digits in this  text :  \", d)\n",
    "print(\"Total Number of Special Characters in this  text :  \", sp) \n",
    "print(\"Total Number of Spaces in this  text :  \", s)"
   ]
  },
  {
   "cell_type": "code",
   "execution_count": null,
   "metadata": {},
   "outputs": [],
   "source": [
    "21. Write a Python program to construct the following pattern\n",
    "*\n",
    "* *\n",
    "* * *\n",
    "* * * *\n",
    "* * * * *..\n",
    "* * * *\n",
    "* * *\n",
    "* *\n",
    "*"
   ]
  },
  {
   "cell_type": "code",
   "execution_count": 2,
   "metadata": {
    "scrolled": false
   },
   "outputs": [
    {
     "name": "stdout",
     "output_type": "stream",
     "text": [
      "\n",
      "* \n",
      "* * \n",
      "* * * \n",
      "* * * * \n",
      "* * * * * \n",
      "* * * * \n",
      "* * * \n",
      "* * \n",
      "* \n"
     ]
    }
   ],
   "source": [
    "number=5;\n",
    "for i in range(number):\n",
    "    for j in range(i):\n",
    "        print ('* ', end=\"\")\n",
    "        \n",
    "    print('')\n",
    "\n",
    "for i in range(number,0,-1):\n",
    "    for j in range(i):\n",
    "        print('* ', end=\"\")\n",
    "    print('')\n",
    "    \n",
    "    \n"
   ]
  },
  {
   "cell_type": "code",
   "execution_count": null,
   "metadata": {},
   "outputs": [],
   "source": [
    "# Q_22 Write a Python program to construct the following pattern\n",
    "1\n",
    "1 2\n",
    "1 2 3\n",
    "1 2 3 4\n",
    "1 2 3 4 5\n",
    "1 2 3 4\n",
    "1 2 3\n",
    "1 2\n",
    "1"
   ]
  },
  {
   "cell_type": "code",
   "execution_count": 23,
   "metadata": {},
   "outputs": [
    {
     "name": "stdout",
     "output_type": "stream",
     "text": [
      "\n",
      "1\n",
      "12\n",
      "123\n",
      "1234\n",
      "12345\n",
      "1234\n",
      "123\n",
      "12\n",
      "1\n"
     ]
    }
   ],
   "source": [
    "number=5\n",
    "random = 1\n",
    "for i in range(number):\n",
    "    for j in range(i):\n",
    "        print (j+1, end=\"\")\n",
    "    \n",
    "    print('')\n",
    "\n",
    "for i in range(5,0,-1):\n",
    "    for j in range(i):\n",
    "        print(j+1, end=\"\")\n",
    "    print('') "
   ]
  },
  {
   "cell_type": "code",
   "execution_count": 5,
   "metadata": {},
   "outputs": [
    {
     "name": "stdout",
     "output_type": "stream",
     "text": [
      "\n",
      "1\n",
      "22\n",
      "333\n",
      "4444\n",
      "55555\n",
      "666666\n",
      "7777777\n",
      "88888888\n",
      "999999999\n"
     ]
    }
   ],
   "source": [
    "#23  Write a Python program to construct the following pattern.\n",
    "\n",
    "1\n",
    "22\n",
    "333\n",
    "4444\n",
    "55555\n",
    "666666\n",
    "7777777\n",
    "88888888\n",
    "999999999\n",
    "\n",
    "for i in range(10):\n",
    "    print(str(i) * i)\n"
   ]
  },
  {
   "cell_type": "code",
   "execution_count": null,
   "metadata": {},
   "outputs": [],
   "source": []
  }
 ],
 "metadata": {
  "kernelspec": {
   "display_name": "Python 3",
   "language": "python",
   "name": "python3"
  },
  "language_info": {
   "codemirror_mode": {
    "name": "ipython",
    "version": 3
   },
   "file_extension": ".py",
   "mimetype": "text/x-python",
   "name": "python",
   "nbconvert_exporter": "python",
   "pygments_lexer": "ipython3",
   "version": "3.7.3"
  }
 },
 "nbformat": 4,
 "nbformat_minor": 2
}
