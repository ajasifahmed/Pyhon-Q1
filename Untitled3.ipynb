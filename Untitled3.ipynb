{
 "cells": [
  {
   "cell_type": "code",
   "execution_count": 31,
   "metadata": {},
   "outputs": [],
   "source": [
    "class Animal():\n",
    "    def __init__(self,fname,lname):\n",
    "        print(\"Constructor\")\n",
    "        self.fname=fname\n",
    "        self.lname=lname\n",
    "    def whoIM(self):\n",
    "        print(self.fname,self.lname)\n",
    "    def eat(self):\n",
    "        print(\"Nothing\")\n"
   ]
  },
  {
   "cell_type": "code",
   "execution_count": 32,
   "metadata": {},
   "outputs": [],
   "source": [
    "class Dog(Animal):\n",
    "    pass"
   ]
  },
  {
   "cell_type": "code",
   "execution_count": 33,
   "metadata": {},
   "outputs": [],
   "source": [
    "class Cat(Animal):\n",
    "    pass"
   ]
  },
  {
   "cell_type": "code",
   "execution_count": 36,
   "metadata": {},
   "outputs": [
    {
     "name": "stdout",
     "output_type": "stream",
     "text": [
      "Constructor\n",
      "Constructor\n",
      "Cat Mouse\n"
     ]
    }
   ],
   "source": [
    "mydog=Dog(\"Asif\",\"Ahmed\")\n",
    "mycat=Cat(\"Cat\",\"Mouse\")\n",
    "mycat.whoIM()"
   ]
  },
  {
   "cell_type": "code",
   "execution_count": 35,
   "metadata": {},
   "outputs": [
    {
     "name": "stdout",
     "output_type": "stream",
     "text": [
      "Nothing\n",
      "Asif Ahmed\n"
     ]
    }
   ],
   "source": [
    "mydog.eat()\n",
    "mydog.whoIM()"
   ]
  },
  {
   "cell_type": "code",
   "execution_count": 52,
   "metadata": {},
   "outputs": [],
   "source": [
    "import math\n",
    "class Line():\n",
    "    def __init__(self,x1,x2):\n",
    "        self.x1=x1\n",
    "        self.x2=x2\n",
    "    def distance(self):\n",
    "        c1,c2=self.x1\n",
    "        s1,s2=self.x2\n",
    "        d=math.sqrt((c1-c1)**2+(s2-s1)**2)\n",
    "        print(d)\n",
    "        \n",
    "    def slope(self):\n",
    "        c1,c2=self.x1\n",
    "        s1,s2=self.x2\n",
    "        s=(s2-s2)/(c1-c2)\n",
    "        print(s)\n",
    "        "
   ]
  },
  {
   "cell_type": "code",
   "execution_count": 53,
   "metadata": {},
   "outputs": [
    {
     "name": "stdout",
     "output_type": "stream",
     "text": [
      "1.0\n",
      "0.0\n"
     ]
    }
   ],
   "source": [
    "c=Line((2,1),(2,3))\n",
    "c.distance()\n",
    "c.slope()"
   ]
  },
  {
   "cell_type": "code",
   "execution_count": 91,
   "metadata": {},
   "outputs": [],
   "source": [
    "class Account():\n",
    "    def __init__(self,name,balance):\n",
    "        self.name=name\n",
    "        self.balance=balance\n",
    "        \n",
    "    def deposite(self,amount):\n",
    "        self.balance=self.balance+amount\n",
    "        \n",
    "        print(f'{amount} added to your account')\n",
    "        print(f'Current balance is {self.balance}')\n",
    "        \n",
    "    def withdraw(self,amount):\n",
    "        \n",
    "        if amount>=self.balance:\n",
    "            print('Not allowed!')\n",
    "        else:\n",
    "            self.balance=self.balance-amount\n",
    "            print('Withdraw success')\n",
    "        \n",
    "    def showAmount(self):\n",
    "        print(f'The amount is {self.balance}')\n",
    "    \n",
    "    "
   ]
  },
  {
   "cell_type": "code",
   "execution_count": 92,
   "metadata": {},
   "outputs": [
    {
     "name": "stdout",
     "output_type": "stream",
     "text": [
      "1000 added to your account\n",
      "Current balance is 1500\n"
     ]
    }
   ],
   "source": [
    "Ali=Account('Ali',500)\n",
    "Ali.deposite(1000)"
   ]
  },
  {
   "cell_type": "code",
   "execution_count": 93,
   "metadata": {},
   "outputs": [
    {
     "name": "stdout",
     "output_type": "stream",
     "text": [
      "Withdraw success\n"
     ]
    }
   ],
   "source": [
    "Ali.withdraw(100)"
   ]
  },
  {
   "cell_type": "code",
   "execution_count": 94,
   "metadata": {},
   "outputs": [
    {
     "name": "stdout",
     "output_type": "stream",
     "text": [
      "The amount is 1400\n"
     ]
    }
   ],
   "source": [
    "Ali.showAmount()"
   ]
  }
 ],
 "metadata": {
  "kernelspec": {
   "display_name": "Python 3",
   "language": "python",
   "name": "python3"
  },
  "language_info": {
   "codemirror_mode": {
    "name": "ipython",
    "version": 3
   },
   "file_extension": ".py",
   "mimetype": "text/x-python",
   "name": "python",
   "nbconvert_exporter": "python",
   "pygments_lexer": "ipython3",
   "version": "3.7.3"
  }
 },
 "nbformat": 4,
 "nbformat_minor": 2
}
