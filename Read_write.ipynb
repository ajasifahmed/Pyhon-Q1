{
 "cells": [
  {
   "cell_type": "code",
   "execution_count": 10,
   "metadata": {},
   "outputs": [
    {
     "name": "stdout",
     "output_type": "stream",
     "text": [
      "hello there \n",
      "\n"
     ]
    }
   ],
   "source": [
    "with open(\"new.txt\",\"w\") as f:\n",
    "    f.write(\"hello there \\n\")\n",
    "    \n",
    "with open(\"new.txt\",\"r\") as :\n",
    "    text=f.read()\n",
    "    print(text)"
   ]
  },
  {
   "cell_type": "code",
   "execution_count": null,
   "metadata": {},
   "outputs": [],
   "source": [
    "import csv\n",
    "with open(\"competition.csv\") as f:\n",
    "    contents_of_file=csv.read(f)\n",
    "    print(type(contents_of_file))\n",
    "    submitted_names=[]\n",
    "    not_submitted_names=[]\n",
    "    for each_line in contents_of_file:\n",
    "        print(each_line)\n",
    "        if each_line[2]==\"not\":\n",
    "            not_submitted_names.append(each_line[0])    \n",
    "        else:\n",
    "            submitted_names.append(each_line[0])\n",
    "        \n",
    "print(\"submitted\",submitted_names)\n",
    "print(\"not submitted\",not_submitted_names)"
   ]
  },
  {
   "cell_type": "code",
   "execution_count": null,
   "metadata": {},
   "outputs": [],
   "source": [
    "while True:\n",
    "    try:\n",
    "        filename = input(\"What text file to open? \")\n",
    "        with open(filename) as f:\n",
    "            print(f.read())\n",
    "            break\n",
    "    except FileNotFoundError:\n",
    "                print(\"Sorry, \" + filename + \" not found.\")"
   ]
  }
 ],
 "metadata": {
  "kernelspec": {
   "display_name": "Python 3",
   "language": "python",
   "name": "python3"
  },
  "language_info": {
   "codemirror_mode": {
    "name": "ipython",
    "version": 3
   },
   "file_extension": ".py",
   "mimetype": "text/x-python",
   "name": "python",
   "nbconvert_exporter": "python",
   "pygments_lexer": "ipython3",
   "version": "3.7.3"
  }
 },
 "nbformat": 4,
 "nbformat_minor": 2
}
