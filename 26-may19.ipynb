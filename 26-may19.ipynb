{
 "cells": [
  {
   "cell_type": "code",
   "execution_count": 5,
   "metadata": {},
   "outputs": [
    {
     "name": "stdout",
     "output_type": "stream",
     "text": [
      "['saa', 'aad', 'fdfs', 'fdf']\n",
      "['saa', 'aad', 'fdfs', 'fdf', 'fdnjfbd']\n",
      "\n",
      " ['fhs', 'fhfh', 'sfjs']\n",
      "\n",
      " ['saa', 'aad', 'fdfs', 'fdf', 'fdnjfbd', 'fhs', 'fhfh', 'sfjs']\n",
      "\n",
      " ['saa', 'aad', 'fdfs', 'gdd', 'fdf', 'fdnjfbd', 'fhs', 'fhfh', 'sfjs']\n"
     ]
    }
   ],
   "source": [
    "cities=[\"saa\",\"aad\",\"fdfs\",\"fdf\"]\n",
    "print(cities)\n",
    "\n",
    "cities.append(\"fdnjfbd\")\n",
    "print(cities)\n",
    "\n",
    "ab=[]\n",
    "ab=ab+[\"fhs\",\"fhfh\",\"sfjs\"]\n",
    "print(\"\\n\",ab)\n",
    "\n",
    "ab=cities+ab\n",
    "print(\"\\n\",ab)\n",
    "\n",
    "ab.insert(3,\"gdd\")\n",
    "print(\"\\n\",ab)"
   ]
  },
  {
   "cell_type": "code",
   "execution_count": 14,
   "metadata": {},
   "outputs": [
    {
     "name": "stdout",
     "output_type": "stream",
     "text": [
      "['Ics', 'DM', 'LA', 'DLD']\n",
      "\n",
      " [78, 90]\n"
     ]
    }
   ],
   "source": [
    "sub=[\"Ics\",\"DM\",\"LA\",\"DLD\"]\n",
    "m=[34,4,33,78,90]\n",
    "m=m[3:5]  #<-----\n",
    "print(sub)\n",
    "print(\"\\n\",m)"
   ]
  },
  {
   "cell_type": "code",
   "execution_count": null,
   "metadata": {},
   "outputs": [],
   "source": []
  }
 ],
 "metadata": {
  "kernelspec": {
   "display_name": "Python 3",
   "language": "python",
   "name": "python3"
  },
  "language_info": {
   "codemirror_mode": {
    "name": "ipython",
    "version": 3
   },
   "file_extension": ".py",
   "mimetype": "text/x-python",
   "name": "python",
   "nbconvert_exporter": "python",
   "pygments_lexer": "ipython3",
   "version": "3.7.3"
  }
 },
 "nbformat": 4,
 "nbformat_minor": 2
}
