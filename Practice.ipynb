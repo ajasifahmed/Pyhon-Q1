{
 "cells": [
  {
   "cell_type": "code",
   "execution_count": 6,
   "metadata": {},
   "outputs": [
    {
     "name": "stdout",
     "output_type": "stream",
     "text": [
      "Enter year2019\n",
      "Not a leap year\n"
     ]
    }
   ],
   "source": [
    "year=int(input(\"Enter year\"))\n",
    "if(year%4==0):\n",
    "    if(year%400==0):\n",
    "        print(\"leap year\")\n",
    "    elif(year%100==0):\n",
    "        print(\"not a leap year\")\n",
    "else:\n",
    "    print(\"Not a leap year\")"
   ]
  },
  {
   "cell_type": "code",
   "execution_count": 5,
   "metadata": {},
   "outputs": [
    {
     "name": "stdout",
     "output_type": "stream",
     "text": [
      "2\n",
      "3\n",
      "3\n",
      "28\n"
     ]
    }
   ],
   "source": [
    "def animal(chick,cow,pig):\n",
    "    tot=int((chick*2)+(cow*4)+(pig*4))\n",
    "    #print(\"Total number of legs\",tot)\n",
    "    return tot\n",
    "a=int(input())\n",
    "b=int(input())\n",
    "c=int(input())\n",
    "\n",
    "print(animal(a,b,c))"
   ]
  },
  {
   "cell_type": "code",
   "execution_count": 9,
   "metadata": {},
   "outputs": [],
   "source": [
    "import csv\n",
    "with open(\"newcompitition.csv\",\"w\",newline=\"\")as f:\n",
    "   # data_handler=csv.writer(f)\n",
    "    #data_handler=csv.writer(f,delimiter=',',quoting=csv.QUOTE_ALL)\n",
    "    #quot minimal is defaoult escape\n",
    "    data_handler.writerow([\"Year\",\"Event\",\"Winner\"])\n",
    "    data_handler.writerow([\"1995\",\"Best-kept lawn\",\"None\"])\n",
    "    data_handler.writerow([\"1996\",\"Gobstone\",\"WelcthNational\"])\n",
    "    data_handler.writerow([\"1997\",\"Mygame\",\"Ahsan\"])\n"
   ]
  },
  {
   "cell_type": "code",
   "execution_count": 27,
   "metadata": {},
   "outputs": [
    {
     "name": "stdout",
     "output_type": "stream",
     "text": [
      "['Year', 'Event', 'Winner']\n",
      "['1995', 'Best-kept lawn', 'None']\n",
      "['1996', 'Gobstone', 'WelcthNational']\n",
      "['1997', 'Mygame', 'Ahsan']\n"
     ]
    }
   ],
   "source": [
    "with open(\"newcompitition.csv\") as f:\n",
    "    cf=csv.reader(f)\n",
    "    pc=[]\n",
    "    for el in cf:\n",
    "        print(el)\n",
    "    "
   ]
  },
  {
   "cell_type": "code",
   "execution_count": 1,
   "metadata": {},
   "outputs": [
    {
     "name": "stdout",
     "output_type": "stream",
     "text": [
      "Enter your choic 1 for fictions and 0 for non fiction and 9 for quit1\n",
      "What genreComic\n",
      "location is B\n",
      "Enter your choic 1 for fictions and 0 for non fiction and 9 for quit9\n"
     ]
    }
   ],
   "source": [
    "fd={\"A\":\"Comedy\",\"B\":\"Comic\",\"C\":\"Science\",\"d\":\"Fanatasy\",\"E\":\"Historical\"}\n",
    "Nfd={\"F\":\"abc\",\"G\":\"Comiccc\",\"H\":\"Scvvience\",\"I\":\"Fanahhhtasy\",\"J\":\"Hivvvvstorical\"}\n",
    "\n",
    "select=int(input(\"Enter your choic 1 for fictions and 0 for non fiction and 9 for quit\"))\n",
    "while select!=9:\n",
    "    if(select==1):\n",
    "        genre=input(\"What genre\")\n",
    "        for key,val in fd.items():\n",
    "            if genre==val:\n",
    "                print(\"location is\",key)\n",
    "                #break\n",
    "    elif select==0:\n",
    "        genre=input(\"What genre\")\n",
    "        for key,val in Nfd.items():\n",
    "            if genre==val:\n",
    "                print(\"location is\",key)\n",
    "                #break\n",
    "  \n",
    "\n",
    "    select=int(input(\"Enter your choic 1 for fictions and 0 for non fiction and 9 for quit\"))"
   ]
  },
  {
   "cell_type": "code",
   "execution_count": 1,
   "metadata": {},
   "outputs": [
    {
     "name": "stdout",
     "output_type": "stream",
     "text": [
      "Enter value1\n",
      "Enter value5\n",
      "Enter value6\n",
      "Enter value3\n",
      "Enter value7\n"
     ]
    },
    {
     "ename": "IndexError",
     "evalue": "list index out of range",
     "output_type": "error",
     "traceback": [
      "\u001b[1;31m---------------------------------------------------------------------------\u001b[0m",
      "\u001b[1;31mIndexError\u001b[0m                                Traceback (most recent call last)",
      "\u001b[1;32m<ipython-input-1-0864fcb8051b>\u001b[0m in \u001b[0;36m<module>\u001b[1;34m\u001b[0m\n\u001b[0;32m      5\u001b[0m     \u001b[0mi\u001b[0m\u001b[1;33m+=\u001b[0m\u001b[1;36m1\u001b[0m\u001b[1;33m\u001b[0m\u001b[1;33m\u001b[0m\u001b[0m\n\u001b[0;32m      6\u001b[0m \u001b[0ma\u001b[0m\u001b[1;33m.\u001b[0m\u001b[0msort\u001b[0m\u001b[1;33m(\u001b[0m\u001b[1;33m)\u001b[0m\u001b[1;33m\u001b[0m\u001b[1;33m\u001b[0m\u001b[0m\n\u001b[1;32m----> 7\u001b[1;33m \u001b[0mprint\u001b[0m\u001b[1;33m(\u001b[0m\u001b[0ma\u001b[0m\u001b[1;33m[\u001b[0m\u001b[1;36m3\u001b[0m\u001b[1;33m]\u001b[0m\u001b[1;33m)\u001b[0m\u001b[1;33m\u001b[0m\u001b[1;33m\u001b[0m\u001b[0m\n\u001b[0m\u001b[0;32m      8\u001b[0m \u001b[1;33m\u001b[0m\u001b[0m\n\u001b[0;32m      9\u001b[0m \u001b[1;33m\u001b[0m\u001b[0m\n",
      "\u001b[1;31mIndexError\u001b[0m: list index out of range"
     ]
    }
   ],
   "source": [
    "a=[]\n",
    "i=0\n",
    "while(i<5):\n",
    "    int(input(\"Enter value\"))\n",
    "    i+=1\n",
    "a.sort()\n",
    "print(a[3])\n",
    "\n",
    "            \n",
    "            \n",
    "            \n",
    "        \n",
    "    \n"
   ]
  },
  {
   "cell_type": "code",
   "execution_count": null,
   "metadata": {},
   "outputs": [],
   "source": []
  }
 ],
 "metadata": {
  "kernelspec": {
   "display_name": "Python 3",
   "language": "python",
   "name": "python3"
  },
  "language_info": {
   "codemirror_mode": {
    "name": "ipython",
    "version": 3
   },
   "file_extension": ".py",
   "mimetype": "text/x-python",
   "name": "python",
   "nbconvert_exporter": "python",
   "pygments_lexer": "ipython3",
   "version": "3.7.3"
  }
 },
 "nbformat": 4,
 "nbformat_minor": 2
}
