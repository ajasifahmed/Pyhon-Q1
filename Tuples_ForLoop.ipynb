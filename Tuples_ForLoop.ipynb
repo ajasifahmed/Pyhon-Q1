{
 "cells": [
  {
   "cell_type": "code",
   "execution_count": 1,
   "metadata": {},
   "outputs": [
    {
     "name": "stdout",
     "output_type": "stream",
     "text": [
      "Delaware\n",
      "Pennsylvania\n",
      "New Jersey\n",
      "Georgia\n"
     ]
    }
   ],
   "source": [
    "#TUPLES\n",
    "#NO CHANGABLE \n",
    "states= (\"Delaware\",\"Pennsylvania\", \"New Jersey\", \"Georgia\")\n",
    "for n in states:\n",
    "    print(n)"
   ]
  },
  {
   "cell_type": "code",
   "execution_count": 5,
   "metadata": {},
   "outputs": [
    {
     "name": "stdout",
     "output_type": "stream",
     "text": [
      "name of states:  Delaware\n",
      "city is Georgia:  False\n",
      "name of states:  Pennsylvania\n",
      "city is Georgia:  False\n",
      "name of states:  New Jersey\n",
      "city is Georgia:  False\n",
      "name of states:  Georgia\n",
      "city is Georgia:  True\n"
     ]
    }
   ],
   "source": [
    "#forloop\n",
    "states= (\"Delaware\",\"Pennsylvania\", \"New Jersey\", \"Georgia\")\n",
    "for s in states:\n",
    "    print(\"name of states: \",s)\n",
    "    print(\"city is Georgia: \",s==\"Georgia\")"
   ]
  },
  {
   "cell_type": "code",
   "execution_count": 6,
   "metadata": {},
   "outputs": [
    {
     "name": "stdout",
     "output_type": "stream",
     "text": [
      "name of states:  Delaware\n",
      "city is Delaware or Pennsylvania:  True\n",
      "name of states:  Pennsylvania\n",
      "city is Delaware or Pennsylvania:  True\n",
      "name of states:  New Jersey\n",
      "city is Delaware or Pennsylvania:  False\n",
      "name of states:  Georgia\n",
      "city is Delaware or Pennsylvania:  False\n"
     ]
    }
   ],
   "source": [
    "\n",
    "states= (\"Delaware\",\"Pennsylvania\", \"New Jersey\", \"Georgia\")\n",
    "for s in states:\n",
    "    print(\"name of states: \",s)\n",
    "    print(\"city is Delaware or Pennsylvania: \",s in (\"Delaware\",\"Pennsylvania\"))"
   ]
  },
  {
   "cell_type": "code",
   "execution_count": 17,
   "metadata": {},
   "outputs": [
    {
     "name": "stdout",
     "output_type": "stream",
     "text": [
      "fist child name: Bilal Aslam\n",
      "last child name:  Saad Aslam\n",
      "fist child name: Bilal Asghar\n",
      "last child name:  Saad Asghar\n",
      "fist child name: Bilal Mukhtar\n",
      "last child name:  Saad Mukhtar\n",
      "fist child name: Bilal Rafiq\n",
      "last child name:  Saad Rafiq\n"
     ]
    }
   ],
   "source": [
    "#NESTED FORLOOP\n",
    "father_names=[\"Aslam\",\"Asghar\",\"Mukhtar\",\"Rafiq\"]\n",
    "child_names=[\"C_Bilal\",\"C_Zaran\",\"C_Kashan\",\"C_Saad\"]#one name of each father,s child\n",
    "full_name=[]\n",
    "index=0\n",
    "#last=3\n",
    "for father_name in father_names:\n",
    "    for child_name in child_names:\n",
    "        full_name.append(child_name+\" \"+father_name)\n",
    "    print(\"fist child name:\",full_name[index])\n",
    "        #print(\"l c name:\",full_names[last])\n",
    "    print(\"last child name: \",full_name[-1])\n",
    "        #print(full_names)\n",
    "    index+=4\n",
    "        #last+=4\n",
    "#print(full_names)"
   ]
  },
  {
   "cell_type": "code",
   "execution_count": 24,
   "metadata": {},
   "outputs": [
    {
     "name": "stdout",
     "output_type": "stream",
     "text": [
      "fist child name: Zaran Aslam\n",
      "last child name:  Saad Aslam\n",
      "fist child name: Zaran Asghar\n",
      "last child name:  Saad Asghar\n",
      "fist child name: Zaran Mukhtar\n",
      "last child name:  Saad Mukhtar\n",
      "fist child name: Zaran Rafiq\n",
      "last child name:  Saad Rafiq\n"
     ]
    }
   ],
   "source": [
    "\n",
    "father_names=[\"Aslam\",\"Asghar\",\"Mukhtar\",\"Rafiq\"]\n",
    "child_names=[\"Bilal\",\"Zaran\",\"Kashan\",\"Saad\"]\n",
    "full_name=[]\n",
    "index=1\n",
    "\n",
    "for father_name in father_names:\n",
    "    for child_name in child_names:\n",
    "        full_name.append(child_name+\" \"+father_name)\n",
    "    print(\"fist child name:\",full_name[index])\n",
    "         \n",
    "    print(\"last child name: \",full_name[-1])\n",
    "     \n",
    "    index+=4\n",
    " \n"
   ]
  },
  {
   "cell_type": "code",
   "execution_count": 21,
   "metadata": {},
   "outputs": [
    {
     "name": "stdout",
     "output_type": "stream",
     "text": [
      "Enter nameAsif\n",
      "Asif\n"
     ]
    }
   ],
   "source": [
    "#INPUT\n",
    "name=input(\"Enter name\")\n",
    "print(name)"
   ]
  },
  {
   "cell_type": "code",
   "execution_count": 25,
   "metadata": {},
   "outputs": [
    {
     "name": "stdout",
     "output_type": "stream",
     "text": [
      "Enter number: 33\n",
      "Enter name: 3333\n",
      "3366\n"
     ]
    }
   ],
   "source": [
    "n1=int(input(\"Enter number: \"))\n",
    "n2=int(input(\"Enter name: \"))\n",
    "a=n1+n2\n",
    "print(a)"
   ]
  },
  {
   "cell_type": "code",
   "execution_count": 32,
   "metadata": {},
   "outputs": [
    {
     "name": "stdout",
     "output_type": "stream",
     "text": [
      "JFB\n",
      "Jfb\n",
      "jfb\n",
      "FHFHSJKF\n",
      "Fhfhsjkf\n",
      "fhfhsjkf\n",
      "FHKF\n",
      "Fhkf\n",
      "fhkf\n",
      "FKSF\n",
      "Fksf\n",
      "fksf\n"
     ]
    }
   ],
   "source": [
    "#Upper case Title case Lower\n",
    "city=[\"jfb\",\"fhfhsjkf\",\"fhkf\",\"fksf\"]\n",
    "for c in city:\n",
    "    print(c.upper())\n",
    "    print(c.title())\n",
    "    print(c.lower())"
   ]
  },
  {
   "cell_type": "code",
   "execution_count": 38,
   "metadata": {},
   "outputs": [
    {
     "data": {
      "text/plain": [
       "'fhfhsjkf'"
      ]
     },
     "execution_count": 38,
     "metadata": {},
     "output_type": "execute_result"
    }
   ],
   "source": [
    "#Dictionay\n",
    "city={\"jfb\":\"fhfhsjkf\",\"fhkf\":\"fksf\"}\n",
    "city[\"jfb\"]\n"
   ]
  },
  {
   "cell_type": "code",
   "execution_count": 39,
   "metadata": {},
   "outputs": [
    {
     "name": "stdout",
     "output_type": "stream",
     "text": [
      "sbbsk : 89\n",
      "dgsj : 89\n"
     ]
    }
   ],
   "source": [
    "marks={\"sbbsk\":89,\"dgsj\":89}\n",
    "for m,ma in marks.items():\n",
    "    print(m,\":\",ma)"
   ]
  },
  {
   "cell_type": "code",
   "execution_count": 48,
   "metadata": {},
   "outputs": [
    {
     "name": "stdout",
     "output_type": "stream",
     "text": [
      "{'farhad': [90, 88], 'ghazlo': [100, 100], 'ghazanfar': [88, 89]}\n",
      "student name farhad\n",
      "Maths 90\n",
      "dm 88\n",
      "student name ghazlo\n",
      "Maths 100\n",
      "dm 100\n",
      "student name ghazanfar\n",
      "Maths 88\n",
      "dm 89\n",
      "farhad\n",
      "ghazlo\n",
      "ghazanfar\n",
      "[90, 88]\n",
      "[100, 100]\n",
      "[88, 89]\n"
     ]
    }
   ],
   "source": [
    "mark_sheet={\"farhad\":[90,88],\"ghazlo\":[100,100],\"ghazanfar\":[88,89]}\n",
    "print(mark_sheet)\n",
    "for student,marks in mark_sheet.items():\n",
    "    print(\"student name\",student)\n",
    "    print(\"Maths\",marks[0])\n",
    "    print(\"dm\",marks[1])\n",
    "for x in mark_sheet.keys():\n",
    "    print(x)\n",
    "for v in mark_sheet.values():\n",
    "    print(v)"
   ]
  },
  {
   "cell_type": "code",
   "execution_count": 50,
   "metadata": {},
   "outputs": [
    {
     "name": "stdout",
     "output_type": "stream",
     "text": [
      "total marks6565\n",
      "{'tottal marks': '6565'}\n"
     ]
    }
   ],
   "source": [
    "marks=input(\"total marks\")\n",
    "dict={\"tottal marks\":marks}\n",
    "print(dict)"
   ]
  },
  {
   "cell_type": "code",
   "execution_count": null,
   "metadata": {},
   "outputs": [],
   "source": []
  }
 ],
 "metadata": {
  "kernelspec": {
   "display_name": "Python 3",
   "language": "python",
   "name": "python3"
  },
  "language_info": {
   "codemirror_mode": {
    "name": "ipython",
    "version": 3
   },
   "file_extension": ".py",
   "mimetype": "text/x-python",
   "name": "python",
   "nbconvert_exporter": "python",
   "pygments_lexer": "ipython3",
   "version": "3.7.3"
  }
 },
 "nbformat": 4,
 "nbformat_minor": 2
}
