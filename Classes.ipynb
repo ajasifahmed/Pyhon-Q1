{
 "cells": [
  {
   "cell_type": "code",
   "execution_count": 18,
   "metadata": {},
   "outputs": [
    {
     "name": "stdout",
     "output_type": "stream",
     "text": [
      "2 3\n",
      "4 0\n"
     ]
    }
   ],
   "source": [
    "class Point:\n",
    "    def __init__(self,x,y):\n",
    "        self.x=x\n",
    "        self.y=y\n",
    "p1=Point(2,3)\n",
    "p2=Point(4,0)\n",
    "print(p1.x,p1.y)\n",
    "print(p2.x,p2.y)"
   ]
  },
  {
   "cell_type": "code",
   "execution_count": 29,
   "metadata": {},
   "outputs": [
    {
     "name": "stdout",
     "output_type": "stream",
     "text": [
      "enter your last nameLee\n",
      "enter your first nameClementine\n",
      "enter your age19\n",
      "Clementine Lee Are you kidding me?\n",
      "Not found!\n"
     ]
    }
   ],
   "source": [
    "class Patient():\n",
    "    def __init__(self, last_name, first_name, age):\n",
    "        self.last_name = last_name\n",
    "        self.first_name = first_name\n",
    "        self.age = age\n",
    "    def say_if_minor(self):\n",
    "        if self.age < 21:\n",
    "            #print(self.first_name + \" \" + self.last_name+ \"Are you kidding me?\")\n",
    "            print(self.first_name,self.last_name,\"Are you kidding me?\")\n",
    "        else:\n",
    "            print(self.first_name,self.last_name,\"Welcome here!\")\n",
    "    \n",
    "    def just(self):\n",
    "        if self.last_name==\"Omid\":\n",
    "            print(\"Welcome back!\")\n",
    "        else:\n",
    "            print(\"Not found!\")\n",
    "            \n",
    "p1=Patient(input(\"enter your last name\"),input(\"enter your first name\"),int(input(\"enter your age\")))\n",
    "p1.say_if_minor()\n",
    "p1.just()"
   ]
  },
  {
   "cell_type": "code",
   "execution_count": 4,
   "metadata": {},
   "outputs": [
    {
     "name": "stdout",
     "output_type": "stream",
     "text": [
      "LeeClementine\n"
     ]
    }
   ],
   "source": [
    "class Student():\n",
    "    def __init__(self,n1,n2):\n",
    "        self.n1=n1\n",
    "        self.n2=n2\n",
    "    def add(self):\n",
    "        d=self.n1+self.n2\n",
    "        print(d)\n",
    "c=Student(\"Lee\",\"Clementine\")\n",
    "c.add()"
   ]
  },
  {
   "cell_type": "code",
   "execution_count": 8,
   "metadata": {},
   "outputs": [
    {
     "name": "stdout",
     "output_type": "stream",
     "text": [
      "walking \n",
      "walking \n"
     ]
    }
   ],
   "source": [
    "class Mamal():\n",
    "    def walks(self):\n",
    "        print(\"walking \" )\n",
    "class Dog(Mamal):\n",
    "    pass\n",
    "    \n",
    "class Cat(Mamal):\n",
    "    pass\n",
    "\n",
    "d=Dog()\n",
    "d.walks()\n",
    "c=Cat()\n",
    "c.walks()"
   ]
  },
  {
   "cell_type": "code",
   "execution_count": null,
   "metadata": {},
   "outputs": [],
   "source": []
  }
 ],
 "metadata": {
  "kernelspec": {
   "display_name": "Python 3",
   "language": "python",
   "name": "python3"
  },
  "language_info": {
   "codemirror_mode": {
    "name": "ipython",
    "version": 3
   },
   "file_extension": ".py",
   "mimetype": "text/x-python",
   "name": "python",
   "nbconvert_exporter": "python",
   "pygments_lexer": "ipython3",
   "version": "3.7.3"
  }
 },
 "nbformat": 4,
 "nbformat_minor": 2
}
