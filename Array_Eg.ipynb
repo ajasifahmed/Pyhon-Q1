{
 "cells": [
  {
   "cell_type": "code",
   "execution_count": 6,
   "metadata": {},
   "outputs": [
    {
     "name": "stdout",
     "output_type": "stream",
     "text": [
      "180\n"
     ]
    }
   ],
   "source": [
    "subject=[\"eng\",\"urdu\",\"math\"]\n",
    "marks=[50,60,70]\n",
    "add=0\n",
    "for a in marks:\n",
    "    add+=a\n",
    "    \n",
    "per=(add/300)*100    \n",
    "print(per)\n",
    "\n",
    "if(per>80)"
   ]
  },
  {
   "cell_type": "code",
   "execution_count": 25,
   "metadata": {},
   "outputs": [
    {
     "name": "stdout",
     "output_type": "stream",
     "text": [
      "['car', ['civi', 'honda', 'liana'], 'motorbike', ['suzuki', 'honda', 'yamaha']]\n",
      "civi\n",
      "['two_wheeler', ['motorbike', ['honada', 'sizuki', 'yamaha']], 'four_wheeler', ['car', ['honda', 'liana', 'bmw']]]\n",
      "['motorbike', ['honada', 'sizuki', 'yamaha']]\n",
      "['honada', 'sizuki', 'yamaha']\n",
      "yamaha\n",
      "['honda', 'liana', 'bmw']\n",
      "bmw\n"
     ]
    }
   ],
   "source": [
    "li=[\"car\",[\"civi\",\"honda\",\"liana\"],\"motorbike\",[\"suzuki\",\"honda\",\"yamaha\"]]\n",
    "print(li)\n",
    "print(li[1][0])\n",
    "\n",
    "ls=[\"two_wheeler\",[\"motorbike\",[\"honada\",\"sizuki\",\"yamaha\"]],\"four_wheeler\",[\"car\",[\"honda\",\"liana\",\"bmw\"]]]\n",
    "print(ls)\n",
    "\n",
    "print(ls[1])\n",
    "print(ls[1][1])\n",
    "print(ls[1][1][2])\n",
    "print(ls[3][1])\n",
    "print(ls[3][1][2])\n"
   ]
  },
  {
   "cell_type": "code",
   "execution_count": null,
   "metadata": {},
   "outputs": [],
   "source": []
  }
 ],
 "metadata": {
  "kernelspec": {
   "display_name": "Python 3",
   "language": "python",
   "name": "python3"
  },
  "language_info": {
   "codemirror_mode": {
    "name": "ipython",
    "version": 3
   },
   "file_extension": ".py",
   "mimetype": "text/x-python",
   "name": "python",
   "nbconvert_exporter": "python",
   "pygments_lexer": "ipython3",
   "version": "3.7.3"
  }
 },
 "nbformat": 4,
 "nbformat_minor": 2
}
