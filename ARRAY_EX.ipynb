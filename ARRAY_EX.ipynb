{
 "cells": [
  {
   "cell_type": "code",
   "execution_count": 2,
   "metadata": {},
   "outputs": [
    {
     "name": "stdout",
     "output_type": "stream",
     "text": [
      "83.2\n",
      "A+\n"
     ]
    }
   ],
   "source": [
    "sub=[\"Ics\",\"DM\",\"LA\",\"DLD\",\"semi\"]\n",
    "m=[84,74,90,78,90]\n",
    "sum=m[0]+m[1]+m[2]+m[3]+m[4]\n",
    "marks=(sum/500)*100\n",
    "print(marks)\n",
    "if marks>=80:\n",
    "    print(\"A+\")\n",
    "elif marks>=70 and marks<80:\n",
    "    print(\"A\")\n",
    "elif marks>=60 and marks<70:\n",
    "    print(\"B\")\n",
    "elif marks>=50 and marks<60:\n",
    "    print(\"C\")\n",
    "else:\n",
    "    print(\"BETTER LUCK NEXT TIME\")"
   ]
  },
  {
   "cell_type": "code",
   "execution_count": null,
   "metadata": {},
   "outputs": [],
   "source": []
  }
 ],
 "metadata": {
  "kernelspec": {
   "display_name": "Python 3",
   "language": "python",
   "name": "python3"
  },
  "language_info": {
   "codemirror_mode": {
    "name": "ipython",
    "version": 3
   },
   "file_extension": ".py",
   "mimetype": "text/x-python",
   "name": "python",
   "nbconvert_exporter": "python",
   "pygments_lexer": "ipython3",
   "version": "3.7.3"
  }
 },
 "nbformat": 4,
 "nbformat_minor": 2
}
