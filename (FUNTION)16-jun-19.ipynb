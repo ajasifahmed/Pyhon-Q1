{
 "cells": [
  {
   "cell_type": "code",
   "execution_count": null,
   "metadata": {},
   "outputs": [
    {
     "name": "stdout",
     "output_type": "stream",
     "text": [
      "(190, 10, 9000, 1.1111111111111112)\n"
     ]
    }
   ],
   "source": [
    "def addnsub_numbers(n1=100,n2=90):\n",
    "    tot=n1+n2\n",
    "    tot1=n1-n2\n",
    "    t=n1*n2\n",
    "    e=n1/n2\n",
    "    return tot,tot1,t,e\n",
    "    \n",
    "    \n",
    "#print(addnsub_numbers(23,1))\n",
    "#print(addnsub_numbers(23))\n",
    "print(addnsub_numbers())\n",
    "def msg(m1,m2):\n",
    "    print(m1+\" \"+m2)\n",
    "m1=input(\"name 1 \")\n",
    "m2=input(\"name 2 \")\n",
    "msg(m1,m2)\n"
   ]
  },
  {
   "cell_type": "code",
   "execution_count": 16,
   "metadata": {},
   "outputs": [
    {
     "name": "stdout",
     "output_type": "stream",
     "text": [
      "fist method\n",
      "0.18\n",
      "second method\n",
      "4.0548\n",
      "fist method\n",
      "1802\n",
      "second method\n",
      "30.819999999999997\n"
     ]
    }
   ],
   "source": [
    "def calc_tax1(sales_total,tax=0.04):\n",
    "    print(\"fist method\")\n",
    "    print(sales_total*tax)\n",
    "    \n",
    "def calc_tax2(sales_total=101.37,tax=0.04):\n",
    "    print(\"second method\")\n",
    "    return sales_total*tax\n",
    "calc_tax1(4.5)\n",
    "\n",
    "print(calc_tax2())\n",
    "\n",
    "calc_tax1(34,53)\n",
    "\n",
    "print(calc_tax2(4.6,6.7))"
   ]
  },
  {
   "cell_type": "code",
   "execution_count": 1,
   "metadata": {},
   "outputs": [
    {
     "name": "stdout",
     "output_type": "stream",
     "text": [
      "Ogden\n"
     ]
    }
   ],
   "source": [
    "def find(d,i,t):\n",
    "    print(d[i][t])\n",
    "\n",
    "\n",
    "customers = {\n",
    "0: {\n",
    "\"first name\":\"John\",\n",
    "\"last name\": \"Ogden\",\n",
    "\"address\": \"301 Arbor Rd.\"\n",
    "},\n",
    "1: {\n",
    "\"first name\":\"Ann\",\n",
    "\"last name\": \"Sattermyer\",\n",
    "\"address\": \"PO Box 1145\"\n",
    "},\n",
    "2: {\n",
    "\"first name\":\"Jill\",\n",
    "\"last name\": \"Somers\",\n",
    "\"address\": \"3 Main St.\"\n",
    "}\n",
    "}\n",
    "#Let's say we want to find the last name of customer 2.\n",
    "#This is the function call:\n",
    "#find_something(customers, 2, \"last name\")\n",
    "#This is the function definition:\n",
    "find(customers,0,\"last name\")\n"
   ]
  },
  {
   "cell_type": "code",
   "execution_count": null,
   "metadata": {},
   "outputs": [],
   "source": [
    "#global and local  variable\n"
   ]
  },
  {
   "cell_type": "code",
   "execution_count": null,
   "metadata": {},
   "outputs": [],
   "source": [
    "cleanest_cities =[\"Karachi\",\"Lahore\",\"Islamabad\",\"Quetta\"]\n",
    "user_input=\"\"\n",
    "while user_input != \"q\":\n",
    "    user_input = input(\"Enter a city, or q to quit:\")\n",
    "    if user_input != \"q\":\n",
    "        for a_clean_city in cleanest_cities:\n",
    "            if user_input == a_clean_city:\n",
    "                print(\"It's one of the cleanest cities\")\n",
    "                break"
   ]
  },
  {
   "cell_type": "code",
   "execution_count": null,
   "metadata": {},
   "outputs": [],
   "source": [
    "keep_looping = True\n",
    "while keep_looping == True:\n",
    "    user_input = input(\"Enter a city, or q to quit:\") \n",
    "    if user_input != \"q\":\n",
    "        for a_clean_city in cleanest_cities:\n",
    "            if user_input == a_clean_city:\n",
    "                    print(\"It's one of the cleanest cities\")\n",
    "                    break\n",
    "    else:\n",
    "        keep_looping = False\n",
    "            "
   ]
  },
  {
   "cell_type": "code",
   "execution_count": null,
   "metadata": {},
   "outputs": [],
   "source": [
    "def find_something(dict, inner_dict, target):\n",
    "    print(dict[inner_dict][target])  "
   ]
  },
  {
   "cell_type": "code",
   "execution_count": 7,
   "metadata": {},
   "outputs": [
    {
     "name": "stdout",
     "output_type": "stream",
     "text": [
      "1\n",
      "16\n",
      "9\n",
      "4\n",
      "16\n",
      "4\n",
      "16\n"
     ]
    },
    {
     "data": {
      "text/plain": [
       "[1, 16, 9, 4, 16, 4, 16]"
      ]
     },
     "execution_count": 7,
     "metadata": {},
     "output_type": "execute_result"
    }
   ],
   "source": [
    "def square(numlist):\n",
    "    res=numlist**2\n",
    "    return res\n",
    "li=[1,4,3,2,4,2,4]\n",
    "for num in map(square,li):\n",
    "    print(num)\n",
    "list(map(square,li))"
   ]
  },
  {
   "cell_type": "code",
   "execution_count": 19,
   "metadata": {},
   "outputs": [
    {
     "name": "stdout",
     "output_type": "stream",
     "text": [
      "4\n",
      "2\n",
      "4\n",
      "2\n",
      "4\n"
     ]
    },
    {
     "data": {
      "text/plain": [
       "[1, 16, 9, 4, 16, 4, 16]"
      ]
     },
     "execution_count": 19,
     "metadata": {},
     "output_type": "execute_result"
    }
   ],
   "source": [
    "def check(numlist):\n",
    "    return numlist%2==0\n",
    "\n",
    "li=[1,4,3,2,4,2,4]\n",
    "for num in filter(check,li):\n",
    "    print(num)\n",
    "     \n",
    "list(map(square,li))"
   ]
  },
  {
   "cell_type": "code",
   "execution_count": 45,
   "metadata": {},
   "outputs": [
    {
     "name": "stdout",
     "output_type": "stream",
     "text": [
      "Enter string:hey ther\n",
      "The number of lowercase characters is:\n",
      "7\n",
      "The number of uppercase characters is:\n",
      "0\n"
     ]
    }
   ],
   "source": [
    "string=input(\"Enter string:\")\n",
    "count1=0\n",
    "count2=0\n",
    "for i in string:\n",
    "    if(i.islower()):\n",
    "        count1=count1+1\n",
    "    elif(i.isupper()):\n",
    "        count2=count2+1\n",
    "print(\"The number of lowercase characters is:\")\n",
    "print(count1)\n",
    "print(\"The number of uppercase characters is:\")\n",
    "print(count2)"
   ]
  },
  {
   "cell_type": "code",
   "execution_count": 19,
   "metadata": {},
   "outputs": [
    {
     "name": "stdout",
     "output_type": "stream",
     "text": [
      "3\n"
     ]
    }
   ],
   "source": [
    "n=[1,3,1]\n",
    "def mul(li):\n",
    "    res=1\n",
    "    for i in n:\n",
    "        res*=i  #res=res*i \n",
    "    print(res)\n",
    "mul(n)"
   ]
  },
  {
   "cell_type": "code",
   "execution_count": 11,
   "metadata": {},
   "outputs": [
    {
     "data": {
      "text/plain": [
       "False"
      ]
     },
     "execution_count": 11,
     "metadata": {},
     "output_type": "execute_result"
    }
   ],
   "source": [
    "import string\n",
    "def ispangram(str1, alphabet=string.ascii_lowercase):  \n",
    "    alphaset = set(alphabet)  \n",
    "    return alphaset <= set(str1.lower())\n",
    "#ispangram('The quick brown fox jumps over the lazy dog')\n",
    "ispangram('ttheew')"
   ]
  },
  {
   "cell_type": "code",
   "execution_count": null,
   "metadata": {},
   "outputs": [],
   "source": []
  }
 ],
 "metadata": {
  "kernelspec": {
   "display_name": "Python 3",
   "language": "python",
   "name": "python3"
  },
  "language_info": {
   "codemirror_mode": {
    "name": "ipython",
    "version": 3
   },
   "file_extension": ".py",
   "mimetype": "text/x-python",
   "name": "python",
   "nbconvert_exporter": "python",
   "pygments_lexer": "ipython3",
   "version": "3.7.3"
  }
 },
 "nbformat": 4,
 "nbformat_minor": 2
}
