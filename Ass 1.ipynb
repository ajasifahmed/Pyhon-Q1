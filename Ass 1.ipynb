{
 "cells": [
  {
   "cell_type": "code",
   "execution_count": 12,
   "metadata": {},
   "outputs": [
    {
     "name": "stdout",
     "output_type": "stream",
     "text": [
      "BETTER LUCK NEXT TIME\n"
     ]
    }
   ],
   "source": [
    "marks=45\n",
    "if marks>=80:\n",
    "    print(\"A+\")\n",
    "elif marks>=70 and marks<80:\n",
    "    print(\"A\")\n",
    "elif marks>=60 and marks<70:\n",
    "    print(\"B\")\n",
    "elif marks>=50 and marks<60:\n",
    "    print(\"C\")\n",
    "else:\n",
    "    print(\"BETTER LUCK NEXT TIME\")"
   ]
  },
  {
   "cell_type": "code",
   "execution_count": 13,
   "metadata": {},
   "outputs": [
    {
     "name": "stdout",
     "output_type": "stream",
     "text": [
      "B\n"
     ]
    }
   ],
   "source": [
    "marks=65\n",
    "if marks>=80:\n",
    "    print(\"A+\")\n",
    "elif marks>=70 and marks<80:\n",
    "    print(\"A\")\n",
    "elif marks>=60 and marks<70:\n",
    "    print(\"B\")\n",
    "elif marks>=50 and marks<60:\n",
    "    print(\"C\")\n",
    "else:\n",
    "    print(\"BETTER LUCK NEXT TIME\")"
   ]
  },
  {
   "cell_type": "code",
   "execution_count": 14,
   "metadata": {},
   "outputs": [
    {
     "name": "stdout",
     "output_type": "stream",
     "text": [
      "C\n"
     ]
    }
   ],
   "source": [
    "marks=55\n",
    "if marks>=80:\n",
    "    print(\"A+\")\n",
    "elif marks>=70 and marks<80:\n",
    "    print(\"A\")\n",
    "elif marks>=60 and marks<70:\n",
    "    print(\"B\")\n",
    "elif marks>=50 and marks<60:\n",
    "    print(\"C\")\n",
    "else:\n",
    "    print(\"BETTER LUCK NEXT TIME\")"
   ]
  },
  {
   "cell_type": "code",
   "execution_count": 15,
   "metadata": {},
   "outputs": [
    {
     "name": "stdout",
     "output_type": "stream",
     "text": [
      "A\n"
     ]
    }
   ],
   "source": [
    "marks=75\n",
    "if marks>=80:\n",
    "    print(\"A+\")\n",
    "elif marks>=70 and marks<80:\n",
    "    print(\"A\")\n",
    "elif marks>=60 and marks<70:\n",
    "    print(\"B\")\n",
    "elif marks>=50 and marks<60:\n",
    "    print(\"C\")\n",
    "else:\n",
    "    print(\"BETTER LUCK NEXT TIME\")"
   ]
  },
  {
   "cell_type": "code",
   "execution_count": 16,
   "metadata": {},
   "outputs": [
    {
     "name": "stdout",
     "output_type": "stream",
     "text": [
      "A+\n"
     ]
    }
   ],
   "source": [
    "marks=85\n",
    "if marks>=80:\n",
    "    print(\"A+\")\n",
    "elif marks>=70 and marks<80:\n",
    "    print(\"A\")\n",
    "elif marks>=60 and marks<70:\n",
    "    print(\"B\")\n",
    "elif marks>=50 and marks<60:\n",
    "    print(\"C\")\n",
    "else:\n",
    "    print(\"BETTER LUCK NEXT TIME\")"
   ]
  },
  {
   "cell_type": "code",
   "execution_count": 4,
   "metadata": {},
   "outputs": [
    {
     "name": "stdout",
     "output_type": "stream",
     "text": [
      "Hey there Ahmed Asif\n"
     ]
    }
   ],
   "source": [
    "print(\"Hey there {1} {0}\".format(\"Asif\",\"Ahmed\"))\n"
   ]
  },
  {
   "cell_type": "code",
   "execution_count": 9,
   "metadata": {},
   "outputs": [
    {
     "name": "stdout",
     "output_type": "stream",
     "text": [
      "the result is 0.129\n"
     ]
    }
   ],
   "source": [
    "r=100/777\n",
    "print('the result is {0:1.3f}'.format(r))\n",
    "#{value:width.precision}"
   ]
  }
 ],
 "metadata": {
  "kernelspec": {
   "display_name": "Python 3",
   "language": "python",
   "name": "python3"
  },
  "language_info": {
   "codemirror_mode": {
    "name": "ipython",
    "version": 3
   },
   "file_extension": ".py",
   "mimetype": "text/x-python",
   "name": "python",
   "nbconvert_exporter": "python",
   "pygments_lexer": "ipython3",
   "version": "3.7.3"
  }
 },
 "nbformat": 4,
 "nbformat_minor": 2
}
