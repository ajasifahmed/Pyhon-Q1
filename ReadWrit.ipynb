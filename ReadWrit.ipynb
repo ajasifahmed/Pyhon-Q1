{
 "cells": [
  {
   "cell_type": "code",
   "execution_count": 8,
   "metadata": {},
   "outputs": [
    {
     "name": "stdout",
     "output_type": "stream",
     "text": [
      "About the product\n",
      "\n",
      "    All five episodes of Season One including the last episode 400 Days\n",
      "    Telltale's The Walking Dead is set in the same world as Robert Kirkman's award-winning comic book series\n",
      "    Winner of over 90 Game of the Year Awards\n",
      "    All five episodes of Season One including the last episode 400 Days\n",
      "    Telltale's The Walking Dead is set in the same world as Robert Kirkman's award-winning comic book series\n",
      "Season two also available for windows Mac linux\n"
     ]
    }
   ],
   "source": [
    "with open(\"price.txt\",\"r\") as f:\n",
    "    content=f.read()\n",
    "    print(content)"
   ]
  },
  {
   "cell_type": "code",
   "execution_count": 10,
   "metadata": {},
   "outputs": [
    {
     "name": "stdout",
     "output_type": "stream",
     "text": [
      "About the product\n",
      "\n",
      "    All five episodes of Season One including the last episode 400 Days\n",
      "    Telltale's The Walking Dead is set in the same world as Robert Kirkman's award-winning comic book series\n",
      "    Winner of over 90 Game of the Year Awards\n",
      "    All five episodes of Season One including the last episode 400 Days\n",
      "    Telltale's The Walking Dead is set in the same world as Robert Kirkman's award-winning comic book series\n",
      "Season two also available for windows Mac linux\n"
     ]
    }
   ],
   "source": [
    "try:\n",
    "    with open(\"price.txt\",\"r\") as f:\n",
    "        cont=f.read()\n",
    "        print(cont)\n",
    "except:\n",
    "    print('File not fount!')\n",
    "    \n",
    " "
   ]
  },
  {
   "cell_type": "code",
   "execution_count": 1,
   "metadata": {},
   "outputs": [
    {
     "name": "stdout",
     "output_type": "stream",
     "text": [
      "Enter txt fileprice\n",
      "About the product\n",
      "\n",
      "    All five episodes of Season One including the last episode 400 Days\n",
      "    Telltale's The Walking Dead is set in the same world as Robert Kirkman's award-winning comic book series\n",
      "    Winner of over 90 Game of the Year Awards\n",
      "    All five episodes of Season One including the last episode 400 Days\n",
      "    Telltale's The Walking Dead is set in the same world as Robert Kirkman's award-winning comic book series\n",
      "Season two also available for windows Mac linux\n",
      "entner againd\n",
      "Enter txt filev\n",
      "Not Found \n",
      "Enter again\n",
      "Enter txt fileprice\n",
      "About the product\n",
      "\n",
      "    All five episodes of Season One including the last episode 400 Days\n",
      "    Telltale's The Walking Dead is set in the same world as Robert Kirkman's award-winning comic book series\n",
      "    Winner of over 90 Game of the Year Awards\n",
      "    All five episodes of Season One including the last episode 400 Days\n",
      "    Telltale's The Walking Dead is set in the same world as Robert Kirkman's award-winning comic book series\n",
      "Season two also available for windows Mac linux\n",
      "entner againe\n"
     ]
    }
   ],
   "source": [
    "p=''\n",
    "while p!='e':\n",
    "    try:\n",
    "        ip=input(\"Enter txt file\")+'.txt'\n",
    "        with open(ip,'r') as f:\n",
    "            cont=f.read()\n",
    "            print(cont)\n",
    "            p=input('entner again')\n",
    "    except:\n",
    "        print(\"Not Found \\nEnter again\")\n",
    "        continue\n",
    "        "
   ]
  },
  {
   "cell_type": "code",
   "execution_count": 5,
   "metadata": {},
   "outputs": [
    {
     "name": "stdout",
     "output_type": "stream",
     "text": [
      "['S.No', 'Name', 'Subject']\n",
      "['1', 'Ali', 'Sut']\n",
      "['2', 'Nam', 'Subect']\n",
      "['3', 'Nme', 'Subjet']\n",
      "['4', 'Ne', 'Suct']\n",
      "['5', 'Nae', 'Sub']\n"
     ]
    }
   ],
   "source": [
    "import csv\n",
    "with open('record.csv','w+',newline='') as f:\n",
    "    write=csv.writer(f)\n",
    "    write.writerow(['S.No','Name','Subject'])\n",
    "    write.writerow(['1','Ali','Sut'])\n",
    "    write.writerow(['2','Nam','Subect'])\n",
    "    write.writerow(['3','Nme','Subjet'])\n",
    "    write.writerow(['4','Ne','Suct'])\n",
    "    write.writerow(['5','Nae','Sub'])\n",
    "    f.seek(0)\n",
    "    \n",
    "    contents=csv.reader(f)\n",
    "    for c in contents:\n",
    "        print(c)"
   ]
  },
  {
   "cell_type": "code",
   "execution_count": 10,
   "metadata": {},
   "outputs": [
    {
     "name": "stdout",
     "output_type": "stream",
     "text": [
      "[1,3,3,3,]\n"
     ]
    }
   ],
   "source": [
    "with open('eg.txt','w+') as f:\n",
    "    f.write(\"[1,3,3,3,]\")\n",
    "    f.seek(0)\n",
    "    con=f.read()\n",
    "    print(con)"
   ]
  },
  {
   "cell_type": "code",
   "execution_count": 8,
   "metadata": {},
   "outputs": [
    {
     "name": "stdout",
     "output_type": "stream",
     "text": [
      "['S.No', 'Name', 'Subject']\n",
      "['1', 'Ali', 'Sut']\n",
      "['2', 'Nam', 'Subect']\n",
      "['3', 'Nme', 'Subjet']\n",
      "['4', 'Ne', 'Suct']\n",
      "['5', 'Nae', 'Sub']\n"
     ]
    }
   ],
   "source": [
    "with open('record.csv') as f:\n",
    "    contents=csv.reader(f)\n",
    "    for c in contents:\n",
    "        print(c)"
   ]
  },
  {
   "cell_type": "code",
   "execution_count": 3,
   "metadata": {},
   "outputs": [
    {
     "name": "stdout",
     "output_type": "stream",
     "text": [
      "['S.No|Name|Subject']\n",
      "['1|Ali|Sut']\n",
      "['2|Nam|Subect']\n",
      "['3|Nme|Subjet']\n",
      "['4|Ne|Suct']\n",
      "['5|Nae|Sub']\n"
     ]
    }
   ],
   "source": [
    "import csv\n",
    "with open('record.csv','w+',newline='') as f:\n",
    "    write=csv.writer(f,delimiter='|')\n",
    "    write.writerow(['S.No','Name','Subject'])\n",
    "    write.writerow(['1','Ali','Sut'])\n",
    "    write.writerow(['2','Nam','Subect'])\n",
    "    write.writerow(['3','Nme','Subjet'])\n",
    "    write.writerow(['4','Ne','Suct'])\n",
    "    write.writerow(['5','Nae','Sub'])\n",
    "    f.seek(0)\n",
    "    \n",
    "    contents=csv.reader(f)\n",
    "    for c in contents:\n",
    "        print(c)"
   ]
  },
  {
   "cell_type": "code",
   "execution_count": 15,
   "metadata": {},
   "outputs": [
    {
     "name": "stdout",
     "output_type": "stream",
     "text": [
      "Overwriting magic\n"
     ]
    }
   ],
   "source": [
    "%%writefile magic\n",
    "import csv\n",
    "with open('record.csv','w+',newline='') as f:\n",
    "    write=csv.writer(f,delimiter='|')\n",
    "    write.writerow(['S.No','Name','Subject'])\n",
    "    write.writerow(['1','Ali','Sut'])\n",
    "    write.writerow(['2','Nam','Subect'])\n",
    "    write.writerow(['3','Nme','Subjet'])\n",
    "    write.writerow(['4','Ne','Suct'])\n",
    "    write.writerow(['5','Nae','Sub'])\n",
    "    f.seek(0)\n",
    "    \n",
    "    contents=csv.reader(f)\n",
    "    for c in contents:\n",
    "        print(c)"
   ]
  }
 ],
 "metadata": {
  "kernelspec": {
   "display_name": "Python 3",
   "language": "python",
   "name": "python3"
  },
  "language_info": {
   "codemirror_mode": {
    "name": "ipython",
    "version": 3
   },
   "file_extension": ".py",
   "mimetype": "text/x-python",
   "name": "python",
   "nbconvert_exporter": "python",
   "pygments_lexer": "ipython3",
   "version": "3.7.3"
  }
 },
 "nbformat": 4,
 "nbformat_minor": 2
}
