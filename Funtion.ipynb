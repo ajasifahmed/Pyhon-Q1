{
 "cells": [
  {
   "cell_type": "code",
   "execution_count": 30,
   "metadata": {},
   "outputs": [
    {
     "name": "stdout",
     "output_type": "stream",
     "text": [
      "(24, 22, 23, 23.0)\n",
      "(113, -67, 2070, 0.25555555555555554)\n",
      "(190, 10, 9000, 1.1111111111111112)\n"
     ]
    }
   ],
   "source": [
    "\n",
    "def addnsub_numbers(n1=100,n2=90):\n",
    "    tot=n1+n2\n",
    "    tot1=n1-n2\n",
    "    t=n1*n2\n",
    "    e=n1/n2\n",
    "    return tot,tot1,t,e\n",
    "    \n",
    "    \n",
    "print(addnsub_numbers(23,1))\n",
    "print(addnsub_numbers(23))\n",
    "print(addnsub_numbers())\n",
    " "
   ]
  },
  {
   "cell_type": "code",
   "execution_count": 34,
   "metadata": {},
   "outputs": [
    {
     "name": "stdout",
     "output_type": "stream",
     "text": [
      "0.18\n",
      "4.0548\n",
      "1802\n",
      "30.819999999999997\n"
     ]
    }
   ],
   "source": [
    "def calc_tax1(sales_total,tax=0.04):\n",
    "    print(sales_total*tax)\n",
    "def calc_tax2(sales_total=101.37,tax=0.04):\n",
    "    return sales_total*tax\n",
    "calc_tax1(4.5)\n",
    "print(calc_tax2())\n",
    "calc_tax1(34,53)\n",
    "print(calc_tax2(4.6,6.7))"
   ]
  },
  {
   "cell_type": "code",
   "execution_count": 37,
   "metadata": {},
   "outputs": [
    {
     "name": "stdout",
     "output_type": "stream",
     "text": [
      "301 Arbor Rd.\n"
     ]
    }
   ],
   "source": [
    "def find_something(dict, inner_dict, target):\n",
    "    print(dict[inner_dict][target])\n",
    "\n",
    "customers = {\n",
    "0: {\n",
    "\"first name\":\"John\",\n",
    "\"last name\": \"Ogden\",\n",
    "\"address\": \"301 Arbor Rd.\",\n",
    "},\n",
    "1: {\n",
    "\"first name\":\"Ann\",\n",
    "\"last name\": \"Sattermyer\",\n",
    "\"address\": \"PO Box 1145\",\n",
    "},\n",
    "2: {\n",
    "\"first name\":\"Jill\",\n",
    "#******ebook converter DEMO Watermarks*******\n",
    "\"last name\": \"Somers\",\n",
    "\"address\": \"3 Main St.\",\n",
    "},\n",
    "}\n",
    "#Let's say we want to find the last name of customer 2.\n",
    "#This is the function call:\n",
    "#find_something(customers, 2, \"last name\")\n",
    "#This is the function definition:\n",
    "\n",
    "find_something(customers,0,\"address\")\n"
   ]
  },
  {
   "cell_type": "code",
   "execution_count": 6,
   "metadata": {},
   "outputs": [
    {
     "data": {
      "text/plain": [
       "'AsifAhmed'"
      ]
     },
     "execution_count": 6,
     "metadata": {},
     "output_type": "execute_result"
    }
   ],
   "source": [
    "def doIt(name):\n",
    "    getf=name[0]\n",
    "    getm=name[1:4]\n",
    "    getl=name[4]\n",
    "    rest=name[5:]\n",
    "    return getf.upper()+getm+getl.upper()+rest\n",
    "doIt('asifahmed')    "
   ]
  },
  {
   "cell_type": "code",
   "execution_count": 10,
   "metadata": {},
   "outputs": [
    {
     "name": "stdout",
     "output_type": "stream",
     "text": [
      "ahmed asif is name My\n"
     ]
    }
   ],
   "source": [
    "def rev(words):\n",
    "    word=words.split()\n",
    "    revo=word[::-1]\n",
    "    return ' '.join(revo) \n",
    "print(rev(\"My name is asif ahmed\"))"
   ]
  },
  {
   "cell_type": "code",
   "execution_count": 4,
   "metadata": {},
   "outputs": [
    {
     "data": {
      "text/plain": [
       "True"
      ]
     },
     "execution_count": 4,
     "metadata": {},
     "output_type": "execute_result"
    }
   ],
   "source": [
    "def has_33(li):\n",
    "    for i in range(1,len(li)):\n",
    "        if li[i]==3 and li[i+1]==3:\n",
    "            return True\n",
    "    else:\n",
    "        print(\"nop\")\n",
    "has_33([1,2,3,3])"
   ]
  },
  {
   "cell_type": "code",
   "execution_count": 5,
   "metadata": {},
   "outputs": [
    {
     "data": {
      "text/plain": [
       "'eeehhhyyy'"
      ]
     },
     "execution_count": 5,
     "metadata": {},
     "output_type": "execute_result"
    }
   ],
   "source": [
    "#hello---->hhheeelllooo\n",
    "def mulString(sentence):\n",
    "    result=''\n",
    "    for char in sentence:\n",
    "        result+=char*3\n",
    "    return result\n",
    "mulString(\"ehy\")\n",
    "        \n",
    "        "
   ]
  },
  {
   "cell_type": "code",
   "execution_count": null,
   "metadata": {},
   "outputs": [],
   "source": [
    "def spyGame(li):\n",
    "    for i in li:\n",
    "        "
   ]
  }
 ],
 "metadata": {
  "kernelspec": {
   "display_name": "Python 3",
   "language": "python",
   "name": "python3"
  },
  "language_info": {
   "codemirror_mode": {
    "name": "ipython",
    "version": 3
   },
   "file_extension": ".py",
   "mimetype": "text/x-python",
   "name": "python",
   "nbconvert_exporter": "python",
   "pygments_lexer": "ipython3",
   "version": "3.7.3"
  }
 },
 "nbformat": 4,
 "nbformat_minor": 2
}
