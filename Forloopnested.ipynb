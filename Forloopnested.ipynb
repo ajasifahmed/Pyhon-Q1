{
 "cells": [
  {
   "cell_type": "code",
   "execution_count": 6,
   "metadata": {},
   "outputs": [
    {
     "name": "stdout",
     "output_type": "stream",
     "text": [
      "fist child full name: Bilal Aslam\n",
      "last child full name:  Saad Aslam\n",
      "fist child full name: Bilal Asghar\n",
      "last child full name:  Saad Asghar\n",
      "fist child full name: Bilal Mukhtar\n",
      "last child full name:  Saad Mukhtar\n",
      "fist child full name: Bilal Rafiq\n",
      "last child full name:  Saad Rafiq\n",
      "\n",
      " ['Bilal Aslam', 'Zaran Aslam', 'Kashan Aslam', 'Saad Aslam', 'Bilal Asghar', 'Zaran Asghar', 'Kashan Asghar', 'Saad Asghar', 'Bilal Mukhtar', 'Zaran Mukhtar', 'Kashan Mukhtar', 'Saad Mukhtar', 'Bilal Rafiq', 'Zaran Rafiq', 'Kashan Rafiq', 'Saad Rafiq']\n"
     ]
    }
   ],
   "source": [
    "father_names=[\"Aslam\",\"Asghar\",\"Mukhtar\",\"Rafiq\"]\n",
    "child_names=[\"Bilal\",\"Zaran\",\"Kashan\",\"Saad\"]\n",
    "full_name=[]\n",
    "index=0\n",
    "\n",
    "for father_name in father_names:\n",
    "    for child_name in child_names:\n",
    "        full_name.append(child_name+\" \"+father_name)\n",
    "        \n",
    "    print(\"fist child full name:\",full_name[index])\n",
    "         \n",
    "    print(\"last child full name: \",full_name[-1])\n",
    "     \n",
    "    index+=4\n",
    "print(\"\\n\",full_name)"
   ]
  },
  {
   "cell_type": "code",
   "execution_count": 2,
   "metadata": {},
   "outputs": [
    {
     "name": "stdout",
     "output_type": "stream",
     "text": [
      "enter the numbers of tables: 3\n",
      "loop 1\n",
      "2*1=2\n",
      "2*2=4\n",
      "2*3=6\n",
      "2*4=8\n",
      "2*5=10\n",
      "2*6=12\n",
      "2*7=14\n",
      "2*8=16\n",
      "2*9=18\n",
      "2*10=20\n",
      "loop 2\n",
      "3*1=3\n",
      "3*2=6\n",
      "3*3=9\n",
      "3*4=12\n",
      "3*5=15\n",
      "3*6=18\n",
      "3*7=21\n",
      "3*8=24\n",
      "3*9=27\n",
      "3*10=30\n"
     ]
    }
   ],
   "source": [
    "t=int(input(\"enter the numbers of tables: \"))\n",
    "l=1\n",
    "for i in range(2,t+1):\n",
    "    print(f\"loop {l}\")\n",
    "    l+=1\n",
    "    for x in range(1,11):\n",
    "        print(f\"{i}*{x}={i*x}\")\n"
   ]
  },
  {
   "cell_type": "code",
   "execution_count": null,
   "metadata": {},
   "outputs": [],
   "source": []
  }
 ],
 "metadata": {
  "kernelspec": {
   "display_name": "Python 3",
   "language": "python",
   "name": "python3"
  },
  "language_info": {
   "codemirror_mode": {
    "name": "ipython",
    "version": 3
   },
   "file_extension": ".py",
   "mimetype": "text/x-python",
   "name": "python",
   "nbconvert_exporter": "python",
   "pygments_lexer": "ipython3",
   "version": "3.7.3"
  }
 },
 "nbformat": 4,
 "nbformat_minor": 2
}
